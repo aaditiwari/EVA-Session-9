{
  "nbformat": 4,
  "nbformat_minor": 0,
  "metadata": {
    "colab": {
      "name": "Session 9 F6 Amit Doda.ipynb",
      "version": "0.3.2",
      "provenance": [],
      "collapsed_sections": [],
      "include_colab_link": true
    },
    "kernelspec": {
      "name": "python3",
      "display_name": "Python 3"
    },
    "accelerator": "GPU"
  },
  "cells": [
    {
      "cell_type": "markdown",
      "metadata": {
        "id": "view-in-github",
        "colab_type": "text"
      },
      "source": [
        "<a href=\"https://colab.research.google.com/github/amitdoda1983/EVA-Session-9/blob/master/Session_9_F6_Amit_Doda.ipynb\" target=\"_parent\"><img src=\"https://colab.research.google.com/assets/colab-badge.svg\" alt=\"Open In Colab\"/></a>"
      ]
    },
    {
      "cell_type": "markdown",
      "metadata": {
        "id": "hjBbkbC7eQX6",
        "colab_type": "text"
      },
      "source": [
        "### Results:\n",
        "#### First of all , with cutout the validation accuracy increased from 88.9 % to 90.01 %\n",
        "\n",
        "### Grad CAM Results\n",
        "#### 1. Looking at the sample images from the validation data, it has come out very clearly in many images that there arent many important regions identified in model 1 (without cutout), however in model2 (with cutout) , every image has important regions highlighted that indicates the class being predicted.\n",
        "#### 2. In many cases the region has shifted from some irrelevant position in model 1 to very obvious regions in model 2 indicating that the model is now learning what it is supposed to learn."
      ]
    },
    {
      "cell_type": "code",
      "metadata": {
        "id": "KkwXnw9OfHZl",
        "colab_type": "code",
        "colab": {}
      },
      "source": [
        "from keras import backend as K\n",
        "import time\n",
        "import matplotlib.pyplot as plt\n",
        "import numpy as np\n",
        "% matplotlib inline\n",
        "np.random.seed(2017) \n",
        "import keras.models\n",
        "from keras import regularizers\n",
        "from keras.models import Sequential\n",
        "from keras.layers.convolutional import Convolution2D, MaxPooling2D,AveragePooling2D\n",
        "from keras.layers import Activation, Flatten, Dense, Dropout\n",
        "from keras.layers.normalization import BatchNormalization\n",
        "from keras.utils import np_utils\n",
        "from keras.preprocessing.image import ImageDataGenerator\n",
        "\n",
        "\n",
        "from numpy.random import seed\n",
        "seed(1)\n",
        "from tensorflow import set_random_seed\n",
        "set_random_seed(2)"
      ],
      "execution_count": 0,
      "outputs": []
    },
    {
      "cell_type": "code",
      "metadata": {
        "id": "XSkMxJGwf5gS",
        "colab_type": "code",
        "outputId": "10f1fa10-05e0-4c10-bfbb-bb2a97dfbc74",
        "colab": {
          "base_uri": "https://localhost:8080/",
          "height": 130
        }
      },
      "source": [
        "from google.colab import drive\n",
        "drive.mount('../content/drive/', force_remount=True)"
      ],
      "execution_count": 0,
      "outputs": [
        {
          "output_type": "stream",
          "text": [
            "Go to this URL in a browser: https://accounts.google.com/o/oauth2/auth?client_id=947318989803-6bn6qk8qdgf4n4g3pfee6491hc0brc4i.apps.googleusercontent.com&redirect_uri=urn%3Aietf%3Awg%3Aoauth%3A2.0%3Aoob&scope=email%20https%3A%2F%2Fwww.googleapis.com%2Fauth%2Fdocs.test%20https%3A%2F%2Fwww.googleapis.com%2Fauth%2Fdrive%20https%3A%2F%2Fwww.googleapis.com%2Fauth%2Fdrive.photos.readonly%20https%3A%2F%2Fwww.googleapis.com%2Fauth%2Fpeopleapi.readonly&response_type=code\n",
            "\n",
            "Enter your authorization code:\n",
            "··········\n",
            "Mounted at ../content/drive/\n"
          ],
          "name": "stdout"
        }
      ]
    },
    {
      "cell_type": "code",
      "metadata": {
        "id": "pcF4VDmNf5mm",
        "colab_type": "code",
        "outputId": "26241b0c-0fd4-4526-d9c1-d394452ba052",
        "colab": {
          "base_uri": "https://localhost:8080/",
          "height": 36
        }
      },
      "source": [
        "import os\n",
        "os.listdir('../content/drive/My Drive/EVA/')"
      ],
      "execution_count": 0,
      "outputs": [
        {
          "output_type": "execute_result",
          "data": {
            "text/plain": [
              "['model_best.h5']"
            ]
          },
          "metadata": {
            "tags": []
          },
          "execution_count": 4
        }
      ]
    },
    {
      "cell_type": "code",
      "metadata": {
        "id": "NHpnoCHZfO8g",
        "colab_type": "code",
        "outputId": "34af7b67-477f-4222-a18f-f660957447ce",
        "colab": {
          "base_uri": "https://localhost:8080/",
          "height": 54
        }
      },
      "source": [
        "from keras.datasets import cifar10\n",
        "(train_features, train_labels), (test_features, test_labels) = cifar10.load_data()\n",
        "num_train, img_rows, img_cols,img_channels =  train_features.shape\n",
        "num_test, _, _, _ =  test_features.shape\n",
        "num_classes = len(np.unique(train_labels))"
      ],
      "execution_count": 0,
      "outputs": [
        {
          "output_type": "stream",
          "text": [
            "Downloading data from https://www.cs.toronto.edu/~kriz/cifar-10-python.tar.gz\n",
            "170500096/170498071 [==============================] - 3s 0us/step\n"
          ],
          "name": "stdout"
        }
      ]
    },
    {
      "cell_type": "code",
      "metadata": {
        "id": "2R9KHV8A19cw",
        "colab_type": "code",
        "outputId": "817ff6d1-fd18-465d-b26e-1e8a470b487e",
        "colab": {
          "base_uri": "https://localhost:8080/",
          "height": 73
        }
      },
      "source": [
        "print (num_classes)\n",
        "print (num_train)\n",
        "print (train_features.shape)"
      ],
      "execution_count": 0,
      "outputs": [
        {
          "output_type": "stream",
          "text": [
            "10\n",
            "50000\n",
            "(50000, 32, 32, 3)\n"
          ],
          "name": "stdout"
        }
      ]
    },
    {
      "cell_type": "code",
      "metadata": {
        "id": "14HyBUXdfS6G",
        "colab_type": "code",
        "outputId": "1a0bdf8a-2831-455c-9af7-991f3eaa7fd5",
        "colab": {
          "base_uri": "https://localhost:8080/",
          "height": 213
        }
      },
      "source": [
        "class_names = ['airplane','automobile','bird','cat','deer',\n",
        "               'dog','frog','horse','ship','truck']\n",
        "fig = plt.figure(figsize=(8,3))\n",
        "for i in range(num_classes):\n",
        "    ax = fig.add_subplot(2, 5, 1 + i, xticks=[], yticks=[])\n",
        "    idx = np.where(train_labels[:]==i)[0]\n",
        "    features_idx = train_features[idx,::]\n",
        "    img_num = np.random.randint(features_idx.shape[0])\n",
        "    im = features_idx[img_num]\n",
        "    ax.set_title(class_names[i])\n",
        "    plt.imshow(im)\n",
        "plt.show()"
      ],
      "execution_count": 0,
      "outputs": [
        {
          "output_type": "display_data",
          "data": {
            "image/png": "[encoded data removed]",
            "text/plain": [
              "<Figure size 576x216 with 10 Axes>"
            ]
          },
          "metadata": {
            "tags": []
          }
        }
      ]
    },
    {
      "cell_type": "code",
      "metadata": {
        "id": "bmfsk76-fadV",
        "colab_type": "code",
        "colab": {}
      },
      "source": [
        "def plot_model_history(model_history):\n",
        "    fig, axs = plt.subplots(1,2,figsize=(15,5))\n",
        "    # summarize history for accuracy\n",
        "    axs[0].plot(range(1,len(model_history.history['acc'])+1),model_history.history['acc'])\n",
        "    axs[0].plot(range(1,len(model_history.history['val_acc'])+1),model_history.history['val_acc'])\n",
        "    axs[0].set_title('Model Accuracy')\n",
        "    axs[0].set_ylabel('Accuracy')\n",
        "    axs[0].set_xlabel('Epoch')\n",
        "    axs[0].set_xticks(np.arange(1,len(model_history.history['acc'])+1),len(model_history.history['acc'])/10)\n",
        "    axs[0].legend(['train', 'val'], loc='best')\n",
        "    # summarize history for loss\n",
        "    axs[1].plot(range(1,len(model_history.history['loss'])+1),model_history.history['loss'])\n",
        "    axs[1].plot(range(1,len(model_history.history['val_loss'])+1),model_history.history['val_loss'])\n",
        "    axs[1].set_title('Model Loss')\n",
        "    axs[1].set_ylabel('Loss')\n",
        "    axs[1].set_xlabel('Epoch')\n",
        "    axs[1].set_xticks(np.arange(1,len(model_history.history['loss'])+1),len(model_history.history['loss'])/10)\n",
        "    axs[1].legend(['train', 'val'], loc='best')\n",
        "    plt.show()"
      ],
      "execution_count": 0,
      "outputs": []
    },
    {
      "cell_type": "code",
      "metadata": {
        "id": "YJMT4rjgfdZz",
        "colab_type": "code",
        "colab": {}
      },
      "source": [
        "def accuracy(test_x, test_y, model):\n",
        "    result = model.predict(test_x)\n",
        "    predicted_class = np.argmax(result, axis=1)\n",
        "    true_class = np.argmax(test_y, axis=1)\n",
        "    num_correct = np.sum(predicted_class == true_class) \n",
        "    accuracy = float(num_correct)/result.shape[0]\n",
        "    return (accuracy * 100)"
      ],
      "execution_count": 0,
      "outputs": []
    },
    {
      "cell_type": "code",
      "metadata": {
        "id": "T5c5nDvxm6zR",
        "colab_type": "code",
        "colab": {}
      },
      "source": [
        "train_features = train_features.astype('float32')/255\n",
        "test_features = test_features.astype('float32')/255\n",
        "# convert class labels to binary class labels\n",
        "train_labels = np_utils.to_categorical(train_labels, num_classes)\n",
        "test_labels = np_utils.to_categorical(test_labels, num_classes)"
      ],
      "execution_count": 0,
      "outputs": []
    },
    {
      "cell_type": "code",
      "metadata": {
        "id": "9upyHvwj3JhG",
        "colab_type": "code",
        "outputId": "6c4b28cb-ba3e-4ed6-eb4e-00872c9d7749",
        "colab": {
          "base_uri": "https://localhost:8080/",
          "height": 147
        }
      },
      "source": [
        "train_labels"
      ],
      "execution_count": 0,
      "outputs": [
        {
          "output_type": "execute_result",
          "data": {
            "text/plain": [
              "array([[0., 0., 0., ..., 0., 0., 0.],\n",
              "       [0., 0., 0., ..., 0., 0., 1.],\n",
              "       [0., 0., 0., ..., 0., 0., 1.],\n",
              "       ...,\n",
              "       [0., 0., 0., ..., 0., 0., 1.],\n",
              "       [0., 1., 0., ..., 0., 0., 0.],\n",
              "       [0., 1., 0., ..., 0., 0., 0.]], dtype=float32)"
            ]
          },
          "metadata": {
            "tags": []
          },
          "execution_count": 12
        }
      ]
    },
    {
      "cell_type": "code",
      "metadata": {
        "id": "e5U2c0unqgdP",
        "colab_type": "code",
        "outputId": "9303812a-9741-4bf4-884e-3574d8c64958",
        "colab": {
          "base_uri": "https://localhost:8080/",
          "height": 73
        }
      },
      "source": [
        "# load dataset\n",
        "(trainX, trainy), (testX, testy) = cifar10.load_data()\n",
        "\n",
        "\n",
        "print('Statistics train=%.3f (%.3f), test=%.3f (%.3f)' % (trainX.mean(), trainX.std(), testX.mean(), testX.std()))\n",
        "\n",
        "# create generator that centers pixel values\n",
        "datagen = ImageDataGenerator(featurewise_center=True, featurewise_std_normalization=True)\n",
        "\n",
        "# calculate the mean on the training dataset\n",
        "datagen.fit(trainX)\n",
        "#print('Data Generator mean=%.3f, std=%.3f' % (datagen.mean, datagen.std))\n",
        "\n",
        "# demonstrate effect on a single batch of samples\n",
        "iterator = datagen.flow(trainX, trainy, batch_size=128)\n",
        "\n",
        "# get a batch\n",
        "batchX, batchy = iterator.next()\n",
        "\n",
        "# pixel stats in the batch\n",
        "print(batchX.shape, batchX.mean(), batchX.std())\n",
        "\n",
        "# demonstrate effect on entire training dataset\n",
        "iterator = datagen.flow(trainX, trainy, batch_size=len(trainX), shuffle=False)\n",
        "\n",
        "# get a batch\n",
        "batchX, batchy = iterator.next()\n",
        "\n",
        "# pixel stats in the batch\n",
        "print(batchX.shape, batchX.mean(), batchX.std())"
      ],
      "execution_count": 0,
      "outputs": [
        {
          "output_type": "stream",
          "text": [
            "Statistics train=120.708 (64.150), test=121.529 (64.061)\n",
            "(128, 32, 32, 3) -0.01866643 0.97224635\n",
            "(50000, 32, 32, 3) -1.6605131e-06 1.0000001\n"
          ],
          "name": "stdout"
        }
      ]
    },
    {
      "cell_type": "code",
      "metadata": {
        "id": "D-eJt3EDq1g5",
        "colab_type": "code",
        "colab": {}
      },
      "source": [
        "iterator1 = datagen.flow(testX, testy, batch_size=len(testX), shuffle=False)\n",
        "batch_testX, batch_testy = iterator1.next()\n",
        "\n",
        "X_train = batchX\n",
        "X_test = batch_testX\n",
        "\n",
        "y_train=batchy\n",
        "y_test=batch_testy\n",
        "                        "
      ],
      "execution_count": 0,
      "outputs": []
    },
    {
      "cell_type": "code",
      "metadata": {
        "id": "av2re-bNrBnY",
        "colab_type": "code",
        "colab": {}
      },
      "source": [
        "# Convert 1-dimensional class arrays to 10-dimensional class matrices\n",
        "Y_train = np_utils.to_categorical(y_train, 10)\n",
        "Y_test = np_utils.to_categorical(y_test, 10)"
      ],
      "execution_count": 0,
      "outputs": []
    },
    {
      "cell_type": "code",
      "metadata": {
        "id": "z3d05MXp7qXD",
        "colab_type": "code",
        "outputId": "1647f610-a7d6-4cbf-d55f-b3361882840e",
        "colab": {
          "base_uri": "https://localhost:8080/",
          "height": 279
        }
      },
      "source": [
        "# Define the model\n",
        "model1 = Sequential()\n",
        "model1.add(Convolution2D(32, 3, 3, border_mode='same',kernel_regularizer=regularizers.l2(0.0001), input_shape=(32, 32, 3)))\n",
        "model1.add(Activation('relu'))\n",
        "model1.add(BatchNormalization())\n",
        "\n",
        "model1.add(Convolution2D(64, 3, 3,kernel_regularizer=regularizers.l2(0.0001),border_mode='same'))\n",
        "model1.add(Activation('relu'))\n",
        "model1.add(BatchNormalization())\n",
        "\n",
        "model1.add(MaxPooling2D(pool_size=(2, 2)))\n",
        "model1.add(Dropout(0.2))\n",
        "\n",
        "model1.add(Convolution2D(32, 1, 1))\n",
        "\n",
        "\n",
        "model1.add(Convolution2D(64, 3, 3,kernel_regularizer=regularizers.l2(0.0001),border_mode='same'))\n",
        "model1.add(Activation('relu'))\n",
        "model1.add(BatchNormalization())\n",
        "\n",
        "model1.add(Convolution2D(128, 3, 3,kernel_regularizer=regularizers.l2(0.0001),border_mode='same'))\n",
        "model1.add(Activation('relu'))\n",
        "model1.add(BatchNormalization())\n",
        "\n",
        "model1.add(MaxPooling2D(pool_size=(2, 2)))\n",
        "model1.add(Dropout(0.3))\n",
        "\n",
        "model1.add(Convolution2D(32, 1, 1))\n",
        "\n",
        "\n",
        "model1.add(Convolution2D(128, 3, 3,kernel_regularizer=regularizers.l2(0.0001), border_mode='same'))\n",
        "model1.add(Activation('relu'))\n",
        "model1.add(BatchNormalization())\n",
        "\n",
        "model1.add(Convolution2D(256, 3, 3,kernel_regularizer=regularizers.l2(0.0001), border_mode='same'))\n",
        "model1.add(Activation('relu'))\n",
        "model1.add(BatchNormalization())\n",
        "\n",
        "model1.add(MaxPooling2D(pool_size=(2, 2)))\n",
        "model1.add(Dropout(0.5))\n",
        "\n",
        "model1.add(Convolution2D(10, 1, 1))\n",
        "\n",
        "model1.add(AveragePooling2D(pool_size = (4,4)))\n",
        "model1.add(Flatten())\n",
        "\n",
        "\n",
        "model1.add(Activation('softmax'))\n",
        "\n",
        "\n"
      ],
      "execution_count": 0,
      "outputs": [
        {
          "output_type": "stream",
          "text": [
            "/usr/local/lib/python3.6/dist-packages/ipykernel_launcher.py:2: UserWarning: Update your `Conv2D` call to the Keras 2 API: `Conv2D(32, (3, 3), kernel_regularizer=<keras.reg..., input_shape=(32, 32, 3..., padding=\"same\")`\n",
            "  \n",
            "/usr/local/lib/python3.6/dist-packages/ipykernel_launcher.py:6: UserWarning: Update your `Conv2D` call to the Keras 2 API: `Conv2D(64, (3, 3), kernel_regularizer=<keras.reg..., padding=\"same\")`\n",
            "  \n",
            "/usr/local/lib/python3.6/dist-packages/ipykernel_launcher.py:13: UserWarning: Update your `Conv2D` call to the Keras 2 API: `Conv2D(32, (1, 1))`\n",
            "  del sys.path[0]\n",
            "/usr/local/lib/python3.6/dist-packages/ipykernel_launcher.py:16: UserWarning: Update your `Conv2D` call to the Keras 2 API: `Conv2D(64, (3, 3), kernel_regularizer=<keras.reg..., padding=\"same\")`\n",
            "  app.launch_new_instance()\n",
            "/usr/local/lib/python3.6/dist-packages/ipykernel_launcher.py:20: UserWarning: Update your `Conv2D` call to the Keras 2 API: `Conv2D(128, (3, 3), kernel_regularizer=<keras.reg..., padding=\"same\")`\n",
            "/usr/local/lib/python3.6/dist-packages/ipykernel_launcher.py:27: UserWarning: Update your `Conv2D` call to the Keras 2 API: `Conv2D(32, (1, 1))`\n",
            "/usr/local/lib/python3.6/dist-packages/ipykernel_launcher.py:30: UserWarning: Update your `Conv2D` call to the Keras 2 API: `Conv2D(128, (3, 3), kernel_regularizer=<keras.reg..., padding=\"same\")`\n",
            "/usr/local/lib/python3.6/dist-packages/ipykernel_launcher.py:34: UserWarning: Update your `Conv2D` call to the Keras 2 API: `Conv2D(256, (3, 3), kernel_regularizer=<keras.reg..., padding=\"same\")`\n",
            "/usr/local/lib/python3.6/dist-packages/ipykernel_launcher.py:41: UserWarning: Update your `Conv2D` call to the Keras 2 API: `Conv2D(10, (1, 1))`\n"
          ],
          "name": "stderr"
        }
      ]
    },
    {
      "cell_type": "code",
      "metadata": {
        "id": "oPIsM29Hhgbp",
        "colab_type": "code",
        "colab": {}
      },
      "source": [
        "from keras.callbacks import ModelCheckpoint,ReduceLROnPlateau\n",
        "\n",
        "checkpointer = ModelCheckpoint(filepath='../content/drive/My Drive/EVA/model_before.h5', monitor='val_acc', mode='auto', verbose = 1, save_best_only=True)\n",
        "lr_reducer = ReduceLROnPlateau(monitor='val_acc',factor=0.8, cooldown=0, patience=5, min_lr=0.5e-9,verbose = 1)\n",
        "\n",
        "\n",
        "\n",
        "# Compile the model\n",
        "model1.compile(optimizer='adam', loss='categorical_crossentropy', metrics=['accuracy'])\n"
      ],
      "execution_count": 0,
      "outputs": []
    },
    {
      "cell_type": "code",
      "metadata": {
        "id": "AUhWT47O7qlt",
        "colab_type": "code",
        "outputId": "497062a7-9ffb-4a3e-a6d2-fa9e9c6a818d",
        "colab": {
          "base_uri": "https://localhost:8080/",
          "height": 1000
        }
      },
      "source": [
        "model1.summary()"
      ],
      "execution_count": 0,
      "outputs": [
        {
          "output_type": "stream",
          "text": [
            "_________________________________________________________________\n",
            "Layer (type)                 Output Shape              Param #   \n",
            "=================================================================\n",
            "conv2d_10 (Conv2D)           (None, 32, 32, 32)        896       \n",
            "_________________________________________________________________\n",
            "activation_8 (Activation)    (None, 32, 32, 32)        0         \n",
            "_________________________________________________________________\n",
            "batch_normalization_7 (Batch (None, 32, 32, 32)        128       \n",
            "_________________________________________________________________\n",
            "conv2d_11 (Conv2D)           (None, 32, 32, 64)        18496     \n",
            "_________________________________________________________________\n",
            "activation_9 (Activation)    (None, 32, 32, 64)        0         \n",
            "_________________________________________________________________\n",
            "batch_normalization_8 (Batch (None, 32, 32, 64)        256       \n",
            "_________________________________________________________________\n",
            "max_pooling2d_4 (MaxPooling2 (None, 16, 16, 64)        0         \n",
            "_________________________________________________________________\n",
            "dropout_4 (Dropout)          (None, 16, 16, 64)        0         \n",
            "_________________________________________________________________\n",
            "conv2d_12 (Conv2D)           (None, 16, 16, 32)        2080      \n",
            "_________________________________________________________________\n",
            "conv2d_13 (Conv2D)           (None, 16, 16, 64)        18496     \n",
            "_________________________________________________________________\n",
            "activation_10 (Activation)   (None, 16, 16, 64)        0         \n",
            "_________________________________________________________________\n",
            "batch_normalization_9 (Batch (None, 16, 16, 64)        256       \n",
            "_________________________________________________________________\n",
            "conv2d_14 (Conv2D)           (None, 16, 16, 128)       73856     \n",
            "_________________________________________________________________\n",
            "activation_11 (Activation)   (None, 16, 16, 128)       0         \n",
            "_________________________________________________________________\n",
            "batch_normalization_10 (Batc (None, 16, 16, 128)       512       \n",
            "_________________________________________________________________\n",
            "max_pooling2d_5 (MaxPooling2 (None, 8, 8, 128)         0         \n",
            "_________________________________________________________________\n",
            "dropout_5 (Dropout)          (None, 8, 8, 128)         0         \n",
            "_________________________________________________________________\n",
            "conv2d_15 (Conv2D)           (None, 8, 8, 32)          4128      \n",
            "_________________________________________________________________\n",
            "conv2d_16 (Conv2D)           (None, 8, 8, 128)         36992     \n",
            "_________________________________________________________________\n",
            "activation_12 (Activation)   (None, 8, 8, 128)         0         \n",
            "_________________________________________________________________\n",
            "batch_normalization_11 (Batc (None, 8, 8, 128)         512       \n",
            "_________________________________________________________________\n",
            "conv2d_17 (Conv2D)           (None, 8, 8, 256)         295168    \n",
            "_________________________________________________________________\n",
            "activation_13 (Activation)   (None, 8, 8, 256)         0         \n",
            "_________________________________________________________________\n",
            "batch_normalization_12 (Batc (None, 8, 8, 256)         1024      \n",
            "_________________________________________________________________\n",
            "max_pooling2d_6 (MaxPooling2 (None, 4, 4, 256)         0         \n",
            "_________________________________________________________________\n",
            "dropout_6 (Dropout)          (None, 4, 4, 256)         0         \n",
            "_________________________________________________________________\n",
            "conv2d_18 (Conv2D)           (None, 4, 4, 10)          2570      \n",
            "_________________________________________________________________\n",
            "average_pooling2d_2 (Average (None, 1, 1, 10)          0         \n",
            "_________________________________________________________________\n",
            "flatten_2 (Flatten)          (None, 10)                0         \n",
            "_________________________________________________________________\n",
            "activation_14 (Activation)   (None, 10)                0         \n",
            "=================================================================\n",
            "Total params: 455,370\n",
            "Trainable params: 454,026\n",
            "Non-trainable params: 1,344\n",
            "_________________________________________________________________\n"
          ],
          "name": "stdout"
        }
      ]
    },
    {
      "cell_type": "markdown",
      "metadata": {
        "id": "cGAT_BcY-da2",
        "colab_type": "text"
      },
      "source": [
        "### Total params: 455,370"
      ]
    },
    {
      "cell_type": "markdown",
      "metadata": {
        "id": "-_G-0AWkf_pj",
        "colab_type": "text"
      },
      "source": [
        "## Model 1 without Cutout"
      ]
    },
    {
      "cell_type": "code",
      "metadata": {
        "id": "4gPfvAi-8nwk",
        "colab_type": "code",
        "outputId": "4e6e9ee2-bbde-42b5-9a83-d5431dc354e0",
        "colab": {
          "base_uri": "https://localhost:8080/",
          "height": 1000
        }
      },
      "source": [
        "from keras.preprocessing.image import ImageDataGenerator\n",
        "\n",
        "datagen = ImageDataGenerator(zoom_range=0.0, \n",
        "                             horizontal_flip=False)\n",
        "\n",
        "\n",
        "# train the model\n",
        "start = time.time()\n",
        "# Train the model\n",
        "model_info = model1.fit_generator(datagen.flow(X_train, Y_train, batch_size = 128),\n",
        "                                 samples_per_epoch = train_features.shape[0], nb_epoch = 100, \n",
        "                                 validation_data = (X_test, Y_test), callbacks=[checkpointer,lr_reducer],verbose=1)\n",
        "end = time.time()\n",
        "print (\"Model took %0.2f seconds to train\"%(end - start))\n",
        "# plot model history\n",
        "plot_model_history(model_info)\n",
        "# compute test accuracy\n",
        "print (\"Accuracy on test data is: %0.2f\"%accuracy(X_test, Y_test, model1))"
      ],
      "execution_count": 0,
      "outputs": [
        {
          "output_type": "stream",
          "text": [
            "/usr/local/lib/python3.6/dist-packages/ipykernel_launcher.py:12: UserWarning: The semantics of the Keras 2 argument `steps_per_epoch` is not the same as the Keras 1 argument `samples_per_epoch`. `steps_per_epoch` is the number of batches to draw from the generator at each epoch. Basically steps_per_epoch = samples_per_epoch/batch_size. Similarly `nb_val_samples`->`validation_steps` and `val_samples`->`steps` arguments have changed. Update your method calls accordingly.\n",
            "  if sys.path[0] == '':\n",
            "/usr/local/lib/python3.6/dist-packages/ipykernel_launcher.py:12: UserWarning: Update your `fit_generator` call to the Keras 2 API: `fit_generator(<keras_pre..., validation_data=(array([[[..., callbacks=[<keras.ca..., verbose=1, steps_per_epoch=390, epochs=100)`\n",
            "  if sys.path[0] == '':\n"
          ],
          "name": "stderr"
        },
        {
          "output_type": "stream",
          "text": [
            "Epoch 1/100\n",
            "390/390 [==============================] - 15s 37ms/step - loss: 1.4184 - acc: 0.5091 - val_loss: 1.1964 - val_acc: 0.5984\n",
            "\n",
            "Epoch 00001: val_acc improved from -inf to 0.59840, saving model to ../content/drive/My Drive/EVA/model_before.h5\n",
            "Epoch 2/100\n",
            "390/390 [==============================] - 13s 32ms/step - loss: 0.9985 - acc: 0.6619 - val_loss: 0.9145 - val_acc: 0.6896\n",
            "\n",
            "Epoch 00002: val_acc improved from 0.59840 to 0.68960, saving model to ../content/drive/My Drive/EVA/model_before.h5\n",
            "Epoch 3/100\n",
            "390/390 [==============================] - 12s 32ms/step - loss: 0.8412 - acc: 0.7242 - val_loss: 0.8031 - val_acc: 0.7359\n",
            "\n",
            "Epoch 00003: val_acc improved from 0.68960 to 0.73590, saving model to ../content/drive/My Drive/EVA/model_before.h5\n",
            "Epoch 4/100\n",
            "390/390 [==============================] - 12s 32ms/step - loss: 0.7352 - acc: 0.7645 - val_loss: 0.7414 - val_acc: 0.7669\n",
            "\n",
            "Epoch 00004: val_acc improved from 0.73590 to 0.76690, saving model to ../content/drive/My Drive/EVA/model_before.h5\n",
            "Epoch 5/100\n",
            "390/390 [==============================] - 12s 32ms/step - loss: 0.6603 - acc: 0.7919 - val_loss: 0.7422 - val_acc: 0.7758\n",
            "\n",
            "Epoch 00005: val_acc improved from 0.76690 to 0.77580, saving model to ../content/drive/My Drive/EVA/model_before.h5\n",
            "Epoch 6/100\n",
            "390/390 [==============================] - 12s 32ms/step - loss: 0.6088 - acc: 0.8144 - val_loss: 0.6802 - val_acc: 0.7942\n",
            "\n",
            "Epoch 00006: val_acc improved from 0.77580 to 0.79420, saving model to ../content/drive/My Drive/EVA/model_before.h5\n",
            "Epoch 7/100\n",
            "390/390 [==============================] - 12s 32ms/step - loss: 0.5712 - acc: 0.8295 - val_loss: 0.6302 - val_acc: 0.8165\n",
            "\n",
            "Epoch 00007: val_acc improved from 0.79420 to 0.81650, saving model to ../content/drive/My Drive/EVA/model_before.h5\n",
            "Epoch 8/100\n",
            "390/390 [==============================] - 12s 32ms/step - loss: 0.5417 - acc: 0.8411 - val_loss: 0.7779 - val_acc: 0.7724\n",
            "\n",
            "Epoch 00008: val_acc did not improve from 0.81650\n",
            "Epoch 9/100\n",
            "390/390 [==============================] - 12s 31ms/step - loss: 0.5153 - acc: 0.8530 - val_loss: 0.6570 - val_acc: 0.8119\n",
            "\n",
            "Epoch 00009: val_acc did not improve from 0.81650\n",
            "Epoch 10/100\n",
            "390/390 [==============================] - 12s 32ms/step - loss: 0.4974 - acc: 0.8625 - val_loss: 0.6255 - val_acc: 0.8259\n",
            "\n",
            "Epoch 00010: val_acc improved from 0.81650 to 0.82590, saving model to ../content/drive/My Drive/EVA/model_before.h5\n",
            "Epoch 11/100\n",
            "390/390 [==============================] - 12s 32ms/step - loss: 0.4842 - acc: 0.8671 - val_loss: 0.5908 - val_acc: 0.8403\n",
            "\n",
            "Epoch 00011: val_acc improved from 0.82590 to 0.84030, saving model to ../content/drive/My Drive/EVA/model_before.h5\n",
            "Epoch 12/100\n",
            "390/390 [==============================] - 12s 32ms/step - loss: 0.4671 - acc: 0.8753 - val_loss: 0.6361 - val_acc: 0.8270\n",
            "\n",
            "Epoch 00012: val_acc did not improve from 0.84030\n",
            "Epoch 13/100\n",
            "390/390 [==============================] - 12s 32ms/step - loss: 0.4585 - acc: 0.8821 - val_loss: 0.6151 - val_acc: 0.8377\n",
            "\n",
            "Epoch 00013: val_acc did not improve from 0.84030\n",
            "Epoch 14/100\n",
            "390/390 [==============================] - 12s 31ms/step - loss: 0.4505 - acc: 0.8844 - val_loss: 0.6775 - val_acc: 0.8252\n",
            "\n",
            "Epoch 00014: val_acc did not improve from 0.84030\n",
            "Epoch 15/100\n",
            "390/390 [==============================] - 12s 31ms/step - loss: 0.4441 - acc: 0.8898 - val_loss: 0.6793 - val_acc: 0.8264\n",
            "\n",
            "Epoch 00015: val_acc did not improve from 0.84030\n",
            "Epoch 16/100\n",
            "390/390 [==============================] - 12s 31ms/step - loss: 0.4340 - acc: 0.8936 - val_loss: 0.6479 - val_acc: 0.8365\n",
            "\n",
            "Epoch 00016: val_acc did not improve from 0.84030\n",
            "\n",
            "Epoch 00016: ReduceLROnPlateau reducing learning rate to 0.000800000037997961.\n",
            "Epoch 17/100\n",
            "390/390 [==============================] - 12s 31ms/step - loss: 0.3967 - acc: 0.9099 - val_loss: 0.6308 - val_acc: 0.8463\n",
            "\n",
            "Epoch 00017: val_acc improved from 0.84030 to 0.84630, saving model to ../content/drive/My Drive/EVA/model_before.h5\n",
            "Epoch 18/100\n",
            "390/390 [==============================] - 12s 31ms/step - loss: 0.3816 - acc: 0.9134 - val_loss: 0.6056 - val_acc: 0.8526\n",
            "\n",
            "Epoch 00018: val_acc improved from 0.84630 to 0.85260, saving model to ../content/drive/My Drive/EVA/model_before.h5\n",
            "Epoch 19/100\n",
            "390/390 [==============================] - 12s 32ms/step - loss: 0.3787 - acc: 0.9151 - val_loss: 0.5763 - val_acc: 0.8620\n",
            "\n",
            "Epoch 00019: val_acc improved from 0.85260 to 0.86200, saving model to ../content/drive/My Drive/EVA/model_before.h5\n",
            "Epoch 20/100\n",
            "390/390 [==============================] - 12s 31ms/step - loss: 0.3695 - acc: 0.9179 - val_loss: 0.6349 - val_acc: 0.8523\n",
            "\n",
            "Epoch 00020: val_acc did not improve from 0.86200\n",
            "Epoch 21/100\n",
            "390/390 [==============================] - 12s 31ms/step - loss: 0.3660 - acc: 0.9216 - val_loss: 0.6256 - val_acc: 0.8535\n",
            "\n",
            "Epoch 00021: val_acc did not improve from 0.86200\n",
            "Epoch 22/100\n",
            "390/390 [==============================] - 12s 31ms/step - loss: 0.3623 - acc: 0.9230 - val_loss: 0.6202 - val_acc: 0.8570\n",
            "\n",
            "Epoch 00022: val_acc did not improve from 0.86200\n",
            "Epoch 23/100\n",
            "390/390 [==============================] - 12s 31ms/step - loss: 0.3522 - acc: 0.9274 - val_loss: 0.6060 - val_acc: 0.8593\n",
            "\n",
            "Epoch 00023: val_acc did not improve from 0.86200\n",
            "Epoch 24/100\n",
            "390/390 [==============================] - 12s 31ms/step - loss: 0.3599 - acc: 0.9243 - val_loss: 0.6499 - val_acc: 0.8568\n",
            "\n",
            "Epoch 00024: val_acc did not improve from 0.86200\n",
            "\n",
            "Epoch 00024: ReduceLROnPlateau reducing learning rate to 0.0006400000303983689.\n",
            "Epoch 25/100\n",
            "390/390 [==============================] - 12s 31ms/step - loss: 0.3242 - acc: 0.9371 - val_loss: 0.6659 - val_acc: 0.8470\n",
            "\n",
            "Epoch 00025: val_acc did not improve from 0.86200\n",
            "Epoch 26/100\n",
            "390/390 [==============================] - 12s 31ms/step - loss: 0.3110 - acc: 0.9426 - val_loss: 0.5881 - val_acc: 0.8683\n",
            "\n",
            "Epoch 00026: val_acc improved from 0.86200 to 0.86830, saving model to ../content/drive/My Drive/EVA/model_before.h5\n",
            "Epoch 27/100\n",
            "390/390 [==============================] - 12s 31ms/step - loss: 0.3085 - acc: 0.9423 - val_loss: 0.6214 - val_acc: 0.8627\n",
            "\n",
            "Epoch 00027: val_acc did not improve from 0.86830\n",
            "Epoch 28/100\n",
            "390/390 [==============================] - 12s 31ms/step - loss: 0.3042 - acc: 0.9441 - val_loss: 0.5994 - val_acc: 0.8684\n",
            "\n",
            "Epoch 00028: val_acc improved from 0.86830 to 0.86840, saving model to ../content/drive/My Drive/EVA/model_before.h5\n",
            "Epoch 29/100\n",
            "390/390 [==============================] - 12s 31ms/step - loss: 0.2993 - acc: 0.9451 - val_loss: 0.6250 - val_acc: 0.8637\n",
            "\n",
            "Epoch 00029: val_acc did not improve from 0.86840\n",
            "Epoch 30/100\n",
            "390/390 [==============================] - 12s 31ms/step - loss: 0.3030 - acc: 0.9438 - val_loss: 0.6232 - val_acc: 0.8608\n",
            "\n",
            "Epoch 00030: val_acc did not improve from 0.86840\n",
            "Epoch 31/100\n",
            "390/390 [==============================] - 12s 31ms/step - loss: 0.3003 - acc: 0.9450 - val_loss: 0.6175 - val_acc: 0.8615\n",
            "\n",
            "Epoch 00031: val_acc did not improve from 0.86840\n",
            "\n",
            "Epoch 00031: ReduceLROnPlateau reducing learning rate to 0.0005120000336319208.\n",
            "Epoch 32/100\n",
            "390/390 [==============================] - 12s 31ms/step - loss: 0.2757 - acc: 0.9537 - val_loss: 0.6001 - val_acc: 0.8684\n",
            "\n",
            "Epoch 00032: val_acc did not improve from 0.86840\n",
            "Epoch 33/100\n",
            "390/390 [==============================] - 12s 31ms/step - loss: 0.2698 - acc: 0.9551 - val_loss: 0.5815 - val_acc: 0.8730\n",
            "\n",
            "Epoch 00033: val_acc improved from 0.86840 to 0.87300, saving model to ../content/drive/My Drive/EVA/model_before.h5\n",
            "Epoch 34/100\n",
            "390/390 [==============================] - 12s 31ms/step - loss: 0.2586 - acc: 0.9589 - val_loss: 0.6244 - val_acc: 0.8674\n",
            "\n",
            "Epoch 00034: val_acc did not improve from 0.87300\n",
            "Epoch 35/100\n",
            "390/390 [==============================] - 12s 31ms/step - loss: 0.2579 - acc: 0.9585 - val_loss: 0.6282 - val_acc: 0.8666\n",
            "\n",
            "Epoch 00035: val_acc did not improve from 0.87300\n",
            "Epoch 36/100\n",
            "390/390 [==============================] - 12s 31ms/step - loss: 0.2612 - acc: 0.9567 - val_loss: 0.6168 - val_acc: 0.8689\n",
            "\n",
            "Epoch 00036: val_acc did not improve from 0.87300\n",
            "Epoch 37/100\n",
            "390/390 [==============================] - 12s 31ms/step - loss: 0.2559 - acc: 0.9594 - val_loss: 0.6319 - val_acc: 0.8659\n",
            "\n",
            "Epoch 00037: val_acc did not improve from 0.87300\n",
            "Epoch 38/100\n",
            "390/390 [==============================] - 12s 32ms/step - loss: 0.2547 - acc: 0.9592 - val_loss: 0.5920 - val_acc: 0.8733\n",
            "\n",
            "Epoch 00038: val_acc improved from 0.87300 to 0.87330, saving model to ../content/drive/My Drive/EVA/model_before.h5\n",
            "Epoch 39/100\n",
            "390/390 [==============================] - 12s 31ms/step - loss: 0.2547 - acc: 0.9578 - val_loss: 0.6270 - val_acc: 0.8699\n",
            "\n",
            "Epoch 00039: val_acc did not improve from 0.87330\n",
            "Epoch 40/100\n",
            "390/390 [==============================] - 12s 31ms/step - loss: 0.2509 - acc: 0.9600 - val_loss: 0.6182 - val_acc: 0.8705\n",
            "\n",
            "Epoch 00040: val_acc did not improve from 0.87330\n",
            "Epoch 41/100\n",
            "390/390 [==============================] - 12s 31ms/step - loss: 0.2480 - acc: 0.9608 - val_loss: 0.6153 - val_acc: 0.8721\n",
            "\n",
            "Epoch 00041: val_acc did not improve from 0.87330\n",
            "Epoch 42/100\n",
            "390/390 [==============================] - 12s 31ms/step - loss: 0.2545 - acc: 0.9587 - val_loss: 0.6279 - val_acc: 0.8691\n",
            "\n",
            "Epoch 00042: val_acc did not improve from 0.87330\n",
            "Epoch 43/100\n",
            "390/390 [==============================] - 12s 31ms/step - loss: 0.2421 - acc: 0.9620 - val_loss: 0.6092 - val_acc: 0.8714\n",
            "\n",
            "Epoch 00043: val_acc did not improve from 0.87330\n",
            "\n",
            "Epoch 00043: ReduceLROnPlateau reducing learning rate to 0.00040960004553198815.\n",
            "Epoch 44/100\n",
            "390/390 [==============================] - 12s 31ms/step - loss: 0.2278 - acc: 0.9680 - val_loss: 0.6000 - val_acc: 0.8776\n",
            "\n",
            "Epoch 00044: val_acc improved from 0.87330 to 0.87760, saving model to ../content/drive/My Drive/EVA/model_before.h5\n",
            "Epoch 45/100\n",
            "390/390 [==============================] - 12s 31ms/step - loss: 0.2248 - acc: 0.9680 - val_loss: 0.6244 - val_acc: 0.8682\n",
            "\n",
            "Epoch 00045: val_acc did not improve from 0.87760\n",
            "Epoch 46/100\n",
            "390/390 [==============================] - 12s 31ms/step - loss: 0.2206 - acc: 0.9688 - val_loss: 0.6480 - val_acc: 0.8700\n",
            "\n",
            "Epoch 00046: val_acc did not improve from 0.87760\n",
            "Epoch 47/100\n",
            "390/390 [==============================] - 12s 31ms/step - loss: 0.2158 - acc: 0.9705 - val_loss: 0.6120 - val_acc: 0.8783\n",
            "\n",
            "Epoch 00047: val_acc improved from 0.87760 to 0.87830, saving model to ../content/drive/My Drive/EVA/model_before.h5\n",
            "Epoch 48/100\n",
            "390/390 [==============================] - 12s 31ms/step - loss: 0.2179 - acc: 0.9691 - val_loss: 0.6480 - val_acc: 0.8687\n",
            "\n",
            "Epoch 00048: val_acc did not improve from 0.87830\n",
            "Epoch 49/100\n",
            "390/390 [==============================] - 12s 31ms/step - loss: 0.2226 - acc: 0.9679 - val_loss: 0.6517 - val_acc: 0.8725\n",
            "\n",
            "Epoch 00049: val_acc did not improve from 0.87830\n",
            "Epoch 50/100\n",
            "390/390 [==============================] - 12s 31ms/step - loss: 0.2124 - acc: 0.9711 - val_loss: 0.6325 - val_acc: 0.8718\n",
            "\n",
            "Epoch 00050: val_acc did not improve from 0.87830\n",
            "Epoch 51/100\n",
            "390/390 [==============================] - 12s 31ms/step - loss: 0.2147 - acc: 0.9697 - val_loss: 0.6113 - val_acc: 0.8761\n",
            "\n",
            "Epoch 00051: val_acc did not improve from 0.87830\n",
            "Epoch 52/100\n",
            "390/390 [==============================] - 12s 31ms/step - loss: 0.2142 - acc: 0.9699 - val_loss: 0.6082 - val_acc: 0.8765\n",
            "\n",
            "Epoch 00052: val_acc did not improve from 0.87830\n",
            "\n",
            "Epoch 00052: ReduceLROnPlateau reducing learning rate to 0.00032768002711236477.\n",
            "Epoch 53/100\n",
            "390/390 [==============================] - 12s 31ms/step - loss: 0.2060 - acc: 0.9724 - val_loss: 0.5912 - val_acc: 0.8827\n",
            "\n",
            "Epoch 00053: val_acc improved from 0.87830 to 0.88270, saving model to ../content/drive/My Drive/EVA/model_before.h5\n",
            "Epoch 54/100\n",
            "390/390 [==============================] - 12s 31ms/step - loss: 0.1955 - acc: 0.9758 - val_loss: 0.5999 - val_acc: 0.8781\n",
            "\n",
            "Epoch 00054: val_acc did not improve from 0.88270\n",
            "Epoch 55/100\n",
            "390/390 [==============================] - 12s 31ms/step - loss: 0.1924 - acc: 0.9764 - val_loss: 0.6089 - val_acc: 0.8772\n",
            "\n",
            "Epoch 00055: val_acc did not improve from 0.88270\n",
            "Epoch 56/100\n",
            "390/390 [==============================] - 12s 31ms/step - loss: 0.1920 - acc: 0.9760 - val_loss: 0.6395 - val_acc: 0.8736\n",
            "\n",
            "Epoch 00056: val_acc did not improve from 0.88270\n",
            "Epoch 57/100\n",
            "390/390 [==============================] - 12s 31ms/step - loss: 0.1914 - acc: 0.9764 - val_loss: 0.6306 - val_acc: 0.8776\n",
            "\n",
            "Epoch 00057: val_acc did not improve from 0.88270\n",
            "Epoch 58/100\n",
            "390/390 [==============================] - 12s 31ms/step - loss: 0.1851 - acc: 0.9782 - val_loss: 0.6222 - val_acc: 0.8750\n",
            "\n",
            "Epoch 00058: val_acc did not improve from 0.88270\n",
            "\n",
            "Epoch 00058: ReduceLROnPlateau reducing learning rate to 0.0002621440216898918.\n",
            "Epoch 59/100\n",
            "390/390 [==============================] - 12s 31ms/step - loss: 0.1806 - acc: 0.9791 - val_loss: 0.6263 - val_acc: 0.8774\n",
            "\n",
            "Epoch 00059: val_acc did not improve from 0.88270\n",
            "Epoch 60/100\n",
            "390/390 [==============================] - 12s 31ms/step - loss: 0.1753 - acc: 0.9809 - val_loss: 0.6032 - val_acc: 0.8829\n",
            "\n",
            "Epoch 00060: val_acc improved from 0.88270 to 0.88290, saving model to ../content/drive/My Drive/EVA/model_before.h5\n",
            "Epoch 61/100\n",
            "390/390 [==============================] - 12s 31ms/step - loss: 0.1716 - acc: 0.9818 - val_loss: 0.6013 - val_acc: 0.8808\n",
            "\n",
            "Epoch 00061: val_acc did not improve from 0.88290\n",
            "Epoch 62/100\n",
            "390/390 [==============================] - 12s 31ms/step - loss: 0.1710 - acc: 0.9816 - val_loss: 0.6169 - val_acc: 0.8826\n",
            "\n",
            "Epoch 00062: val_acc did not improve from 0.88290\n",
            "Epoch 63/100\n",
            "390/390 [==============================] - 12s 31ms/step - loss: 0.1732 - acc: 0.9804 - val_loss: 0.6337 - val_acc: 0.8792\n",
            "\n",
            "Epoch 00063: val_acc did not improve from 0.88290\n",
            "Epoch 64/100\n",
            "390/390 [==============================] - 12s 31ms/step - loss: 0.1705 - acc: 0.9808 - val_loss: 0.5999 - val_acc: 0.8832\n",
            "\n",
            "Epoch 00064: val_acc improved from 0.88290 to 0.88320, saving model to ../content/drive/My Drive/EVA/model_before.h5\n",
            "Epoch 65/100\n",
            "390/390 [==============================] - 12s 31ms/step - loss: 0.1690 - acc: 0.9810 - val_loss: 0.5915 - val_acc: 0.8838\n",
            "\n",
            "Epoch 00065: val_acc improved from 0.88320 to 0.88380, saving model to ../content/drive/My Drive/EVA/model_before.h5\n",
            "Epoch 66/100\n",
            "390/390 [==============================] - 12s 31ms/step - loss: 0.1647 - acc: 0.9830 - val_loss: 0.5968 - val_acc: 0.8831\n",
            "\n",
            "Epoch 00066: val_acc did not improve from 0.88380\n",
            "Epoch 67/100\n",
            "390/390 [==============================] - 12s 31ms/step - loss: 0.1670 - acc: 0.9818 - val_loss: 0.6217 - val_acc: 0.8808\n",
            "\n",
            "Epoch 00067: val_acc did not improve from 0.88380\n",
            "Epoch 68/100\n",
            "390/390 [==============================] - 12s 31ms/step - loss: 0.1639 - acc: 0.9819 - val_loss: 0.5923 - val_acc: 0.8861\n",
            "\n",
            "Epoch 00068: val_acc improved from 0.88380 to 0.88610, saving model to ../content/drive/My Drive/EVA/model_before.h5\n",
            "Epoch 69/100\n",
            "390/390 [==============================] - 12s 31ms/step - loss: 0.1632 - acc: 0.9817 - val_loss: 0.6149 - val_acc: 0.8816\n",
            "\n",
            "Epoch 00069: val_acc did not improve from 0.88610\n",
            "Epoch 70/100\n",
            "390/390 [==============================] - 12s 31ms/step - loss: 0.1614 - acc: 0.9823 - val_loss: 0.6149 - val_acc: 0.8830\n",
            "\n",
            "Epoch 00070: val_acc did not improve from 0.88610\n",
            "Epoch 71/100\n",
            "390/390 [==============================] - 12s 31ms/step - loss: 0.1638 - acc: 0.9806 - val_loss: 0.6265 - val_acc: 0.8820\n",
            "\n",
            "Epoch 00071: val_acc did not improve from 0.88610\n",
            "Epoch 72/100\n",
            "390/390 [==============================] - 12s 31ms/step - loss: 0.1633 - acc: 0.9810 - val_loss: 0.6394 - val_acc: 0.8824\n",
            "\n",
            "Epoch 00072: val_acc did not improve from 0.88610\n",
            "Epoch 73/100\n",
            "390/390 [==============================] - 12s 31ms/step - loss: 0.1609 - acc: 0.9818 - val_loss: 0.6308 - val_acc: 0.8783\n",
            "\n",
            "Epoch 00073: val_acc did not improve from 0.88610\n",
            "\n",
            "Epoch 00073: ReduceLROnPlateau reducing learning rate to 0.00020971521735191345.\n",
            "Epoch 74/100\n",
            "390/390 [==============================] - 12s 31ms/step - loss: 0.1548 - acc: 0.9838 - val_loss: 0.6144 - val_acc: 0.8846\n",
            "\n",
            "Epoch 00074: val_acc did not improve from 0.88610\n",
            "Epoch 75/100\n",
            "390/390 [==============================] - 12s 31ms/step - loss: 0.1519 - acc: 0.9849 - val_loss: 0.6079 - val_acc: 0.8839\n",
            "\n",
            "Epoch 00075: val_acc did not improve from 0.88610\n",
            "Epoch 76/100\n",
            "390/390 [==============================] - 12s 31ms/step - loss: 0.1479 - acc: 0.9858 - val_loss: 0.6211 - val_acc: 0.8817\n",
            "\n",
            "Epoch 00076: val_acc did not improve from 0.88610\n",
            "Epoch 77/100\n",
            "390/390 [==============================] - 12s 31ms/step - loss: 0.1511 - acc: 0.9844 - val_loss: 0.6074 - val_acc: 0.8837\n",
            "\n",
            "Epoch 00077: val_acc did not improve from 0.88610\n",
            "Epoch 78/100\n",
            "390/390 [==============================] - 12s 31ms/step - loss: 0.1476 - acc: 0.9848 - val_loss: 0.6008 - val_acc: 0.8880\n",
            "\n",
            "Epoch 00078: val_acc improved from 0.88610 to 0.88800, saving model to ../content/drive/My Drive/EVA/model_before.h5\n",
            "Epoch 79/100\n",
            "390/390 [==============================] - 12s 31ms/step - loss: 0.1466 - acc: 0.9852 - val_loss: 0.6117 - val_acc: 0.8833\n",
            "\n",
            "Epoch 00079: val_acc did not improve from 0.88800\n",
            "Epoch 80/100\n",
            "390/390 [==============================] - 12s 31ms/step - loss: 0.1452 - acc: 0.9859 - val_loss: 0.6149 - val_acc: 0.8821\n",
            "\n",
            "Epoch 00080: val_acc did not improve from 0.88800\n",
            "Epoch 81/100\n",
            "390/390 [==============================] - 12s 31ms/step - loss: 0.1449 - acc: 0.9856 - val_loss: 0.6043 - val_acc: 0.8864\n",
            "\n",
            "Epoch 00081: val_acc did not improve from 0.88800\n",
            "Epoch 82/100\n",
            "390/390 [==============================] - 12s 31ms/step - loss: 0.1431 - acc: 0.9857 - val_loss: 0.6320 - val_acc: 0.8823\n",
            "\n",
            "Epoch 00082: val_acc did not improve from 0.88800\n",
            "Epoch 83/100\n",
            "390/390 [==============================] - 12s 31ms/step - loss: 0.1447 - acc: 0.9847 - val_loss: 0.6551 - val_acc: 0.8757\n",
            "\n",
            "Epoch 00083: val_acc did not improve from 0.88800\n",
            "\n",
            "Epoch 00083: ReduceLROnPlateau reducing learning rate to 0.00016777217388153076.\n",
            "Epoch 84/100\n",
            "390/390 [==============================] - 12s 31ms/step - loss: 0.1376 - acc: 0.9874 - val_loss: 0.6173 - val_acc: 0.8824\n",
            "\n",
            "Epoch 00084: val_acc did not improve from 0.88800\n",
            "Epoch 85/100\n",
            "390/390 [==============================] - 12s 31ms/step - loss: 0.1398 - acc: 0.9863 - val_loss: 0.6187 - val_acc: 0.8798\n",
            "\n",
            "Epoch 00085: val_acc did not improve from 0.88800\n",
            "Epoch 86/100\n",
            "390/390 [==============================] - 12s 31ms/step - loss: 0.1333 - acc: 0.9886 - val_loss: 0.5990 - val_acc: 0.8856\n",
            "\n",
            "Epoch 00086: val_acc did not improve from 0.88800\n",
            "Epoch 87/100\n",
            "390/390 [==============================] - 12s 31ms/step - loss: 0.1326 - acc: 0.9888 - val_loss: 0.6325 - val_acc: 0.8816\n",
            "\n",
            "Epoch 00087: val_acc did not improve from 0.88800\n",
            "Epoch 88/100\n",
            "390/390 [==============================] - 12s 31ms/step - loss: 0.1331 - acc: 0.9879 - val_loss: 0.6148 - val_acc: 0.8803\n",
            "\n",
            "Epoch 00088: val_acc did not improve from 0.88800\n",
            "\n",
            "Epoch 00088: ReduceLROnPlateau reducing learning rate to 0.00013421773910522462.\n",
            "Epoch 89/100\n",
            "390/390 [==============================] - 12s 31ms/step - loss: 0.1293 - acc: 0.9891 - val_loss: 0.6038 - val_acc: 0.8871\n",
            "\n",
            "Epoch 00089: val_acc did not improve from 0.88800\n",
            "Epoch 90/100\n",
            "390/390 [==============================] - 12s 31ms/step - loss: 0.1274 - acc: 0.9896 - val_loss: 0.6199 - val_acc: 0.8849\n",
            "\n",
            "Epoch 00090: val_acc did not improve from 0.88800\n",
            "Epoch 91/100\n",
            "390/390 [==============================] - 12s 31ms/step - loss: 0.1260 - acc: 0.9905 - val_loss: 0.6169 - val_acc: 0.8843\n",
            "\n",
            "Epoch 00091: val_acc did not improve from 0.88800\n",
            "Epoch 92/100\n",
            "390/390 [==============================] - 12s 31ms/step - loss: 0.1247 - acc: 0.9901 - val_loss: 0.6185 - val_acc: 0.8837\n",
            "\n",
            "Epoch 00092: val_acc did not improve from 0.88800\n",
            "Epoch 93/100\n",
            "390/390 [==============================] - 12s 31ms/step - loss: 0.1245 - acc: 0.9896 - val_loss: 0.6455 - val_acc: 0.8828\n",
            "\n",
            "Epoch 00093: val_acc did not improve from 0.88800\n",
            "\n",
            "Epoch 00093: ReduceLROnPlateau reducing learning rate to 0.00010737419361248613.\n",
            "Epoch 94/100\n",
            "390/390 [==============================] - 12s 31ms/step - loss: 0.1217 - acc: 0.9908 - val_loss: 0.5997 - val_acc: 0.8882\n",
            "\n",
            "Epoch 00094: val_acc improved from 0.88800 to 0.88820, saving model to ../content/drive/My Drive/EVA/model_before.h5\n",
            "Epoch 95/100\n",
            "390/390 [==============================] - 12s 31ms/step - loss: 0.1195 - acc: 0.9916 - val_loss: 0.6094 - val_acc: 0.8849\n",
            "\n",
            "Epoch 00095: val_acc did not improve from 0.88820\n",
            "Epoch 96/100\n",
            "390/390 [==============================] - 12s 31ms/step - loss: 0.1191 - acc: 0.9909 - val_loss: 0.6205 - val_acc: 0.8891\n",
            "\n",
            "Epoch 00096: val_acc improved from 0.88820 to 0.88910, saving model to ../content/drive/My Drive/EVA/model_before.h5\n",
            "Epoch 97/100\n",
            "390/390 [==============================] - 12s 31ms/step - loss: 0.1168 - acc: 0.9918 - val_loss: 0.6087 - val_acc: 0.8860\n",
            "\n",
            "Epoch 00097: val_acc did not improve from 0.88910\n",
            "Epoch 98/100\n",
            "390/390 [==============================] - 12s 31ms/step - loss: 0.1161 - acc: 0.9915 - val_loss: 0.6215 - val_acc: 0.8859\n",
            "\n",
            "Epoch 00098: val_acc did not improve from 0.88910\n",
            "Epoch 99/100\n",
            "390/390 [==============================] - 12s 31ms/step - loss: 0.1171 - acc: 0.9915 - val_loss: 0.6180 - val_acc: 0.8873\n",
            "\n",
            "Epoch 00099: val_acc did not improve from 0.88910\n",
            "Epoch 100/100\n",
            "390/390 [==============================] - 12s 31ms/step - loss: 0.1156 - acc: 0.9916 - val_loss: 0.6117 - val_acc: 0.8882\n",
            "\n",
            "Epoch 00100: val_acc did not improve from 0.88910\n",
            "Model took 1239.24 seconds to train\n"
          ],
          "name": "stdout"
        },
        {
          "output_type": "display_data",
          "data": {
            "image/png": "[encoded data removed]",
            "text/plain": [
              "<Figure size 1080x360 with 2 Axes>"
            ]
          },
          "metadata": {
            "tags": []
          }
        },
        {
          "output_type": "stream",
          "text": [
            "Accuracy on test data is: 88.82\n"
          ],
          "name": "stdout"
        }
      ]
    },
    {
      "cell_type": "code",
      "metadata": {
        "id": "YU8BnbbBiRlt",
        "colab_type": "code",
        "colab": {}
      },
      "source": [
        "model=keras.models.load_model('../content/drive/My Drive/EVA/model_before.h5')\n"
      ],
      "execution_count": 0,
      "outputs": []
    },
    {
      "cell_type": "code",
      "metadata": {
        "id": "ogczjN7rit1r",
        "colab_type": "code",
        "outputId": "5ff0a0fe-4278-4ee0-edf6-2f62cd46acb2",
        "colab": {
          "base_uri": "https://localhost:8080/",
          "height": 54
        }
      },
      "source": [
        "score = model.evaluate(X_test, Y_test, batch_size=128)\n",
        "print (score[1])"
      ],
      "execution_count": 0,
      "outputs": [
        {
          "output_type": "stream",
          "text": [
            "10000/10000 [==============================] - 3s 299us/step\n",
            "0.889\n"
          ],
          "name": "stdout"
        }
      ]
    },
    {
      "cell_type": "markdown",
      "metadata": {
        "id": "JxOEZKgFdLnt",
        "colab_type": "text"
      },
      "source": [
        "### Model 1 Grad CAM results : without Cutout"
      ]
    },
    {
      "cell_type": "code",
      "metadata": {
        "id": "drj9gKGLsJhu",
        "colab_type": "code",
        "outputId": "073f18e2-fd7f-44ca-dd72-7ae8c9d45569",
        "colab": {
          "base_uri": "https://localhost:8080/",
          "height": 1000
        }
      },
      "source": [
        "import cv2\n",
        "from google.colab.patches import cv2_imshow\n",
        "\n",
        "images = [100,101,201,510,600,1000,1600,1601,3000,4000,5500,7000,7500,8000,9000,9999]\n",
        "for j in images:\n",
        "  x = testX[j]\n",
        "  x = np.expand_dims(x, axis=0)\n",
        "  preds = model.predict(x,batch_size=1)\n",
        "  class_idx = np.argmax(preds[0])\n",
        "  class_output = model.output[:, class_idx]\n",
        "  last_conv_layer = model.get_layer(\"conv2d_17\")\n",
        "\n",
        "  grads = K.gradients(class_output, last_conv_layer.output)[0]\n",
        "  pooled_grads = K.mean(grads, axis=(0, 1, 2))\n",
        "  iterate = K.function([model.input], [pooled_grads, last_conv_layer.output[0]])\n",
        "  pooled_grads_value, conv_layer_output_value = iterate([x])\n",
        "  for i in range(256):\n",
        "    conv_layer_output_value[:, :, i] *= pooled_grads_value[i]\n",
        "  \n",
        "  heatmap = np.mean(conv_layer_output_value, axis=-1)\n",
        "  heatmap = np.maximum(heatmap, 0)\n",
        "  heatmap /= np.max(heatmap)\n",
        "  img = (testX[j])\n",
        "  heatmap = cv2.resize(heatmap, (img.shape[1], img.shape[0]))\n",
        "  heatmap = np.uint8(255 * heatmap)\n",
        "  heatmap = cv2.applyColorMap(heatmap, cv2.COLORMAP_JET)\n",
        "  superimposed_img = cv2.addWeighted(img, 0.6, heatmap, 0.4, 0)\n",
        "  #cv2_imshow(img)\n",
        "  #cv2_imshow(superimposed_img)\n",
        "  concatimg = cv2.hconcat([img,superimposed_img])\n",
        "  # Display the concatenated image\n",
        "  print (j)\n",
        "  cv2_imshow(concatimg)\n",
        "  cv2.waitKey(0)\n",
        "  print (\" \")\n",
        "  j = j + 1\n"
      ],
      "execution_count": 0,
      "outputs": [
        {
          "output_type": "stream",
          "text": [
            "100\n"
          ],
          "name": "stdout"
        },
        {
          "output_type": "display_data",
          "data": {
            "image/png": "[encoded data removed]",
            "text/plain": [
              "<PIL.Image.Image image mode=RGB size=64x32 at 0x7F13E200C4A8>"
            ]
          },
          "metadata": {
            "tags": []
          }
        },
        {
          "output_type": "stream",
          "text": [
            " \n",
            "101\n"
          ],
          "name": "stdout"
        },
        {
          "output_type": "stream",
          "text": [
            "/usr/local/lib/python3.6/dist-packages/ipykernel_launcher.py:22: RuntimeWarning: invalid value encountered in true_divide\n"
          ],
          "name": "stderr"
        },
        {
          "output_type": "display_data",
          "data": {
            "image/png": "[encoded data removed]",
            "text/plain": [
              "<PIL.Image.Image image mode=RGB size=64x32 at 0x7F13EACCE898>"
            ]
          },
          "metadata": {
            "tags": []
          }
        },
        {
          "output_type": "stream",
          "text": [
            " \n",
            "201\n"
          ],
          "name": "stdout"
        },
        {
          "output_type": "stream",
          "text": [
            "/usr/local/lib/python3.6/dist-packages/ipykernel_launcher.py:22: RuntimeWarning: invalid value encountered in true_divide\n"
          ],
          "name": "stderr"
        },
        {
          "output_type": "display_data",
          "data": {
            "image/png": "[encoded data removed]",
            "text/plain": [
              "<PIL.Image.Image image mode=RGB size=64x32 at 0x7F13E40D6F28>"
            ]
          },
          "metadata": {
            "tags": []
          }
        },
        {
          "output_type": "stream",
          "text": [
            " \n",
            "510\n"
          ],
          "name": "stdout"
        },
        {
          "output_type": "display_data",
          "data": {
            "image/png": "[encoded data removed]",
            "text/plain": [
              "<PIL.Image.Image image mode=RGB size=64x32 at 0x7F13EACCE898>"
            ]
          },
          "metadata": {
            "tags": []
          }
        },
        {
          "output_type": "stream",
          "text": [
            " \n",
            "600\n"
          ],
          "name": "stdout"
        },
        {
          "output_type": "display_data",
          "data": {
            "image/png": "[encoded data removed]",
            "text/plain": [
              "<PIL.Image.Image image mode=RGB size=64x32 at 0x7F13E1D70128>"
            ]
          },
          "metadata": {
            "tags": []
          }
        },
        {
          "output_type": "stream",
          "text": [
            " \n",
            "1000\n"
          ],
          "name": "stdout"
        },
        {
          "output_type": "stream",
          "text": [
            "/usr/local/lib/python3.6/dist-packages/ipykernel_launcher.py:22: RuntimeWarning: invalid value encountered in true_divide\n"
          ],
          "name": "stderr"
        },
        {
          "output_type": "display_data",
          "data": {
            "image/png": "[encoded data removed]",
            "text/plain": [
              "<PIL.Image.Image image mode=RGB size=64x32 at 0x7F13E1C82F28>"
            ]
          },
          "metadata": {
            "tags": []
          }
        },
        {
          "output_type": "stream",
          "text": [
            " \n",
            "1600\n"
          ],
          "name": "stdout"
        },
        {
          "output_type": "display_data",
          "data": {
            "image/png": "[encoded data removed]",
            "text/plain": [
              "<PIL.Image.Image image mode=RGB size=64x32 at 0x7F13E1B12F28>"
            ]
          },
          "metadata": {
            "tags": []
          }
        },
        {
          "output_type": "stream",
          "text": [
            " \n",
            "1601\n"
          ],
          "name": "stdout"
        },
        {
          "output_type": "display_data",
          "data": {
            "image/png": "[encoded data removed]",
            "text/plain": [
              "<PIL.Image.Image image mode=RGB size=64x32 at 0x7F13E1B53FD0>"
            ]
          },
          "metadata": {
            "tags": []
          }
        },
        {
          "output_type": "stream",
          "text": [
            " \n",
            "3000\n"
          ],
          "name": "stdout"
        },
        {
          "output_type": "display_data",
          "data": {
            "image/png": "[encoded data removed]",
            "text/plain": [
              "<PIL.Image.Image image mode=RGB size=64x32 at 0x7F13E1C82F28>"
            ]
          },
          "metadata": {
            "tags": []
          }
        },
        {
          "output_type": "stream",
          "text": [
            " \n",
            "4000\n"
          ],
          "name": "stdout"
        },
        {
          "output_type": "display_data",
          "data": {
            "image/png": "[encoded data removed]",
            "text/plain": [
              "<PIL.Image.Image image mode=RGB size=64x32 at 0x7F13E1B53FD0>"
            ]
          },
          "metadata": {
            "tags": []
          }
        },
        {
          "output_type": "stream",
          "text": [
            " \n",
            "5500\n"
          ],
          "name": "stdout"
        },
        {
          "output_type": "stream",
          "text": [
            "/usr/local/lib/python3.6/dist-packages/ipykernel_launcher.py:22: RuntimeWarning: invalid value encountered in true_divide\n"
          ],
          "name": "stderr"
        },
        {
          "output_type": "display_data",
          "data": {
            "image/png": "[encoded data removed]",
            "text/plain": [
              "<PIL.Image.Image image mode=RGB size=64x32 at 0x7F13E1C82F28>"
            ]
          },
          "metadata": {
            "tags": []
          }
        },
        {
          "output_type": "stream",
          "text": [
            " \n",
            "7000\n"
          ],
          "name": "stdout"
        },
        {
          "output_type": "stream",
          "text": [
            "/usr/local/lib/python3.6/dist-packages/ipykernel_launcher.py:22: RuntimeWarning: invalid value encountered in true_divide\n"
          ],
          "name": "stderr"
        },
        {
          "output_type": "display_data",
          "data": {
            "image/png": "[encoded data removed]",
            "text/plain": [
              "<PIL.Image.Image image mode=RGB size=64x32 at 0x7F13E17F50F0>"
            ]
          },
          "metadata": {
            "tags": []
          }
        },
        {
          "output_type": "stream",
          "text": [
            " \n",
            "7500\n"
          ],
          "name": "stdout"
        },
        {
          "output_type": "stream",
          "text": [
            "/usr/local/lib/python3.6/dist-packages/ipykernel_launcher.py:22: RuntimeWarning: invalid value encountered in true_divide\n"
          ],
          "name": "stderr"
        },
        {
          "output_type": "display_data",
          "data": {
            "image/png": "[encoded data removed]",
            "text/plain": [
              "<PIL.Image.Image image mode=RGB size=64x32 at 0x7F13E16C9908>"
            ]
          },
          "metadata": {
            "tags": []
          }
        },
        {
          "output_type": "stream",
          "text": [
            " \n",
            "8000\n"
          ],
          "name": "stdout"
        },
        {
          "output_type": "display_data",
          "data": {
            "image/png": "[encoded data removed]",
            "text/plain": [
              "<PIL.Image.Image image mode=RGB size=64x32 at 0x7F13E18B9D30>"
            ]
          },
          "metadata": {
            "tags": []
          }
        },
        {
          "output_type": "stream",
          "text": [
            " \n",
            "9000\n"
          ],
          "name": "stdout"
        },
        {
          "output_type": "display_data",
          "data": {
            "image/png": "[encoded data removed]",
            "text/plain": [
              "<PIL.Image.Image image mode=RGB size=64x32 at 0x7F13E152D048>"
            ]
          },
          "metadata": {
            "tags": []
          }
        },
        {
          "output_type": "stream",
          "text": [
            " \n",
            "9999\n"
          ],
          "name": "stdout"
        },
        {
          "output_type": "display_data",
          "data": {
            "image/png": "[encoded data removed]",
            "text/plain": [
              "<PIL.Image.Image image mode=RGB size=64x32 at 0x7F13E16C9908>"
            ]
          },
          "metadata": {
            "tags": []
          }
        },
        {
          "output_type": "stream",
          "text": [
            " \n"
          ],
          "name": "stdout"
        }
      ]
    },
    {
      "cell_type": "code",
      "metadata": {
        "id": "LXa0c0rRH69d",
        "colab_type": "code",
        "outputId": "f43b1a52-5346-483f-e7fd-bfc3b986a1e1",
        "colab": {
          "base_uri": "https://localhost:8080/",
          "height": 279
        }
      },
      "source": [
        "# Define the model\n",
        "model1 = Sequential()\n",
        "model1.add(Convolution2D(32, 3, 3, border_mode='same',kernel_regularizer=regularizers.l2(0.0001), input_shape=(32, 32, 3)))\n",
        "model1.add(Activation('relu'))\n",
        "model1.add(BatchNormalization())\n",
        "\n",
        "model1.add(Convolution2D(64, 3, 3,kernel_regularizer=regularizers.l2(0.0001),border_mode='same'))\n",
        "model1.add(Activation('relu'))\n",
        "model1.add(BatchNormalization())\n",
        "\n",
        "model1.add(MaxPooling2D(pool_size=(2, 2)))\n",
        "model1.add(Dropout(0.2))\n",
        "\n",
        "model1.add(Convolution2D(32, 1, 1))\n",
        "\n",
        "\n",
        "model1.add(Convolution2D(64, 3, 3,kernel_regularizer=regularizers.l2(0.0001),border_mode='same'))\n",
        "model1.add(Activation('relu'))\n",
        "model1.add(BatchNormalization())\n",
        "\n",
        "model1.add(Convolution2D(128, 3, 3,kernel_regularizer=regularizers.l2(0.0001),border_mode='same'))\n",
        "model1.add(Activation('relu'))\n",
        "model1.add(BatchNormalization())\n",
        "\n",
        "model1.add(MaxPooling2D(pool_size=(2, 2)))\n",
        "model1.add(Dropout(0.3))\n",
        "\n",
        "model1.add(Convolution2D(32, 1, 1))\n",
        "\n",
        "\n",
        "model1.add(Convolution2D(128, 3, 3,kernel_regularizer=regularizers.l2(0.0001), border_mode='same'))\n",
        "model1.add(Activation('relu'))\n",
        "model1.add(BatchNormalization())\n",
        "\n",
        "model1.add(Convolution2D(256, 3, 3,kernel_regularizer=regularizers.l2(0.0001), border_mode='same'))\n",
        "model1.add(Activation('relu'))\n",
        "model1.add(BatchNormalization())\n",
        "\n",
        "model1.add(MaxPooling2D(pool_size=(2, 2)))\n",
        "model1.add(Dropout(0.5))\n",
        "\n",
        "model1.add(Convolution2D(10, 1, 1))\n",
        "\n",
        "model1.add(AveragePooling2D(pool_size = (4,4)))\n",
        "model1.add(Flatten())\n",
        "\n",
        "\n",
        "model1.add(Activation('softmax'))\n",
        "\n",
        "\n"
      ],
      "execution_count": 0,
      "outputs": [
        {
          "output_type": "stream",
          "text": [
            "/usr/local/lib/python3.6/dist-packages/ipykernel_launcher.py:2: UserWarning: Update your `Conv2D` call to the Keras 2 API: `Conv2D(32, (3, 3), kernel_regularizer=<keras.reg..., input_shape=(32, 32, 3..., padding=\"same\")`\n",
            "  \n",
            "/usr/local/lib/python3.6/dist-packages/ipykernel_launcher.py:6: UserWarning: Update your `Conv2D` call to the Keras 2 API: `Conv2D(64, (3, 3), kernel_regularizer=<keras.reg..., padding=\"same\")`\n",
            "  \n",
            "/usr/local/lib/python3.6/dist-packages/ipykernel_launcher.py:13: UserWarning: Update your `Conv2D` call to the Keras 2 API: `Conv2D(32, (1, 1))`\n",
            "  del sys.path[0]\n",
            "/usr/local/lib/python3.6/dist-packages/ipykernel_launcher.py:16: UserWarning: Update your `Conv2D` call to the Keras 2 API: `Conv2D(64, (3, 3), kernel_regularizer=<keras.reg..., padding=\"same\")`\n",
            "  app.launch_new_instance()\n",
            "/usr/local/lib/python3.6/dist-packages/ipykernel_launcher.py:20: UserWarning: Update your `Conv2D` call to the Keras 2 API: `Conv2D(128, (3, 3), kernel_regularizer=<keras.reg..., padding=\"same\")`\n",
            "/usr/local/lib/python3.6/dist-packages/ipykernel_launcher.py:27: UserWarning: Update your `Conv2D` call to the Keras 2 API: `Conv2D(32, (1, 1))`\n",
            "/usr/local/lib/python3.6/dist-packages/ipykernel_launcher.py:30: UserWarning: Update your `Conv2D` call to the Keras 2 API: `Conv2D(128, (3, 3), kernel_regularizer=<keras.reg..., padding=\"same\")`\n",
            "/usr/local/lib/python3.6/dist-packages/ipykernel_launcher.py:34: UserWarning: Update your `Conv2D` call to the Keras 2 API: `Conv2D(256, (3, 3), kernel_regularizer=<keras.reg..., padding=\"same\")`\n",
            "/usr/local/lib/python3.6/dist-packages/ipykernel_launcher.py:41: UserWarning: Update your `Conv2D` call to the Keras 2 API: `Conv2D(10, (1, 1))`\n"
          ],
          "name": "stderr"
        }
      ]
    },
    {
      "cell_type": "code",
      "metadata": {
        "id": "kzoi3sDZNOyP",
        "colab_type": "code",
        "outputId": "bcea4675-a7d0-46c6-a7a2-6a141bf7a709",
        "colab": {
          "base_uri": "https://localhost:8080/",
          "height": 1000
        }
      },
      "source": [
        "model.summary()"
      ],
      "execution_count": 0,
      "outputs": [
        {
          "output_type": "stream",
          "text": [
            "_________________________________________________________________\n",
            "Layer (type)                 Output Shape              Param #   \n",
            "=================================================================\n",
            "conv2d_19 (Conv2D)           (None, 32, 32, 32)        896       \n",
            "_________________________________________________________________\n",
            "activation_15 (Activation)   (None, 32, 32, 32)        0         \n",
            "_________________________________________________________________\n",
            "batch_normalization_13 (Batc (None, 32, 32, 32)        128       \n",
            "_________________________________________________________________\n",
            "conv2d_20 (Conv2D)           (None, 32, 32, 64)        18496     \n",
            "_________________________________________________________________\n",
            "activation_16 (Activation)   (None, 32, 32, 64)        0         \n",
            "_________________________________________________________________\n",
            "batch_normalization_14 (Batc (None, 32, 32, 64)        256       \n",
            "_________________________________________________________________\n",
            "max_pooling2d_7 (MaxPooling2 (None, 16, 16, 64)        0         \n",
            "_________________________________________________________________\n",
            "dropout_7 (Dropout)          (None, 16, 16, 64)        0         \n",
            "_________________________________________________________________\n",
            "conv2d_21 (Conv2D)           (None, 16, 16, 32)        2080      \n",
            "_________________________________________________________________\n",
            "conv2d_22 (Conv2D)           (None, 16, 16, 64)        18496     \n",
            "_________________________________________________________________\n",
            "activation_17 (Activation)   (None, 16, 16, 64)        0         \n",
            "_________________________________________________________________\n",
            "batch_normalization_15 (Batc (None, 16, 16, 64)        256       \n",
            "_________________________________________________________________\n",
            "conv2d_23 (Conv2D)           (None, 16, 16, 128)       73856     \n",
            "_________________________________________________________________\n",
            "activation_18 (Activation)   (None, 16, 16, 128)       0         \n",
            "_________________________________________________________________\n",
            "batch_normalization_16 (Batc (None, 16, 16, 128)       512       \n",
            "_________________________________________________________________\n",
            "max_pooling2d_8 (MaxPooling2 (None, 8, 8, 128)         0         \n",
            "_________________________________________________________________\n",
            "dropout_8 (Dropout)          (None, 8, 8, 128)         0         \n",
            "_________________________________________________________________\n",
            "conv2d_24 (Conv2D)           (None, 8, 8, 32)          4128      \n",
            "_________________________________________________________________\n",
            "conv2d_25 (Conv2D)           (None, 8, 8, 128)         36992     \n",
            "_________________________________________________________________\n",
            "activation_19 (Activation)   (None, 8, 8, 128)         0         \n",
            "_________________________________________________________________\n",
            "batch_normalization_17 (Batc (None, 8, 8, 128)         512       \n",
            "_________________________________________________________________\n",
            "conv2d_26 (Conv2D)           (None, 8, 8, 256)         295168    \n",
            "_________________________________________________________________\n",
            "activation_20 (Activation)   (None, 8, 8, 256)         0         \n",
            "_________________________________________________________________\n",
            "batch_normalization_18 (Batc (None, 8, 8, 256)         1024      \n",
            "_________________________________________________________________\n",
            "max_pooling2d_9 (MaxPooling2 (None, 4, 4, 256)         0         \n",
            "_________________________________________________________________\n",
            "dropout_9 (Dropout)          (None, 4, 4, 256)         0         \n",
            "_________________________________________________________________\n",
            "conv2d_27 (Conv2D)           (None, 4, 4, 10)          2570      \n",
            "_________________________________________________________________\n",
            "average_pooling2d_3 (Average (None, 1, 1, 10)          0         \n",
            "_________________________________________________________________\n",
            "flatten_3 (Flatten)          (None, 10)                0         \n",
            "_________________________________________________________________\n",
            "activation_21 (Activation)   (None, 10)                0         \n",
            "=================================================================\n",
            "Total params: 455,370\n",
            "Trainable params: 454,026\n",
            "Non-trainable params: 1,344\n",
            "_________________________________________________________________\n"
          ],
          "name": "stdout"
        }
      ]
    },
    {
      "cell_type": "code",
      "metadata": {
        "id": "4NsKmviKlAiq",
        "colab_type": "code",
        "colab": {}
      },
      "source": [
        "from keras.callbacks import ModelCheckpoint,ReduceLROnPlateau\n",
        "\n",
        "checkpointer1 = ModelCheckpoint(filepath='../content/drive/My Drive/EVA/model_after.h5', monitor='val_acc', mode='auto', verbose = 1, save_best_only=True)\n",
        "lr_reducer1 = ReduceLROnPlateau(monitor='val_acc',factor=0.8, cooldown=0, patience=5, min_lr=0.5e-9,verbose = 1)\n",
        "\n",
        "\n",
        "\n",
        "# Compile the model\n",
        "model1.compile(optimizer='adam', loss='categorical_crossentropy', metrics=['accuracy'])\n"
      ],
      "execution_count": 0,
      "outputs": []
    },
    {
      "cell_type": "code",
      "metadata": {
        "id": "znwyqlzEHWwD",
        "colab_type": "code",
        "colab": {}
      },
      "source": [
        "def get_random_eraser(p=0.5, s_l=0.02, s_h=0.4, r_1=0.3, r_2=1/0.3, v_l=0, v_h=255, pixel_level=False):\n",
        "    def eraser(input_img):\n",
        "        img_h, img_w, img_c = input_img.shape\n",
        "        p_1 = np.random.rand()\n",
        "\n",
        "        if p_1 > p:\n",
        "            return input_img\n",
        "\n",
        "        while True:\n",
        "            s = np.random.uniform(s_l, s_h) * img_h * img_w\n",
        "            r = np.random.uniform(r_1, r_2)\n",
        "            w = int(np.sqrt(s / r))\n",
        "            h = int(np.sqrt(s * r))\n",
        "            left = np.random.randint(0, img_w)\n",
        "            top = np.random.randint(0, img_h)\n",
        "\n",
        "            if left + w <= img_w and top + h <= img_h:\n",
        "                break\n",
        "\n",
        "        if pixel_level:\n",
        "            c = np.random.uniform(v_l, v_h, (h, w, img_c))\n",
        "        else:\n",
        "            c = np.random.uniform(v_l, v_h)\n",
        "\n",
        "        input_img[top:top + h, left:left + w, :] = c\n",
        "\n",
        "        return input_img\n",
        "\n",
        "    return eraser"
      ],
      "execution_count": 0,
      "outputs": []
    },
    {
      "cell_type": "markdown",
      "metadata": {
        "id": "ALNfxdtugH1p",
        "colab_type": "text"
      },
      "source": [
        "## Model 2 with Cutout"
      ]
    },
    {
      "cell_type": "code",
      "metadata": {
        "id": "RBwqRY5qlHKE",
        "colab_type": "code",
        "outputId": "189edff0-9c47-42f1-b2ec-27a5412b8f82",
        "colab": {
          "base_uri": "https://localhost:8080/",
          "height": 1000
        }
      },
      "source": [
        "from keras.preprocessing.image import ImageDataGenerator\n",
        "\n",
        "datagen = ImageDataGenerator(zoom_range=0.0, \n",
        "                             horizontal_flip=False,\n",
        "                             preprocessing_function=get_random_eraser(v_l=0, v_h=1, pixel_level=True))\n",
        "\n",
        "\n",
        "# train the model\n",
        "start = time.time()\n",
        "# Train the model\n",
        "model_info = model1.fit_generator(datagen.flow(X_train, Y_train, batch_size = 128),\n",
        "                                 samples_per_epoch = train_features.shape[0], nb_epoch = 100, \n",
        "                                 validation_data = (X_test, Y_test), callbacks=[checkpointer1,lr_reducer1],verbose=1)\n",
        "end = time.time()\n",
        "print (\"Model took %0.2f seconds to train\"%(end - start))\n",
        "# plot model history\n",
        "plot_model_history(model_info)\n",
        "# compute test accuracy\n",
        "print (\"Accuracy on test data is: %0.2f\"%accuracy(X_test, Y_test, model1))"
      ],
      "execution_count": 0,
      "outputs": [
        {
          "output_type": "stream",
          "text": [
            "/usr/local/lib/python3.6/dist-packages/ipykernel_launcher.py:13: UserWarning: The semantics of the Keras 2 argument `steps_per_epoch` is not the same as the Keras 1 argument `samples_per_epoch`. `steps_per_epoch` is the number of batches to draw from the generator at each epoch. Basically steps_per_epoch = samples_per_epoch/batch_size. Similarly `nb_val_samples`->`validation_steps` and `val_samples`->`steps` arguments have changed. Update your method calls accordingly.\n",
            "  del sys.path[0]\n",
            "/usr/local/lib/python3.6/dist-packages/ipykernel_launcher.py:13: UserWarning: Update your `fit_generator` call to the Keras 2 API: `fit_generator(<keras_pre..., validation_data=(array([[[..., callbacks=[<keras.ca..., verbose=1, steps_per_epoch=390, epochs=100)`\n",
            "  del sys.path[0]\n"
          ],
          "name": "stderr"
        },
        {
          "output_type": "stream",
          "text": [
            "Epoch 1/100\n",
            "390/390 [==============================] - 18s 45ms/step - loss: 1.4672 - acc: 0.4917 - val_loss: 1.1923 - val_acc: 0.6135\n",
            "\n",
            "Epoch 00001: val_acc improved from -inf to 0.61350, saving model to ../content/drive/My Drive/EVA/model_after.h5\n",
            "Epoch 2/100\n",
            "390/390 [==============================] - 13s 32ms/step - loss: 1.0810 - acc: 0.6345 - val_loss: 0.9220 - val_acc: 0.6930\n",
            "\n",
            "Epoch 00002: val_acc improved from 0.61350 to 0.69300, saving model to ../content/drive/My Drive/EVA/model_after.h5\n",
            "Epoch 3/100\n",
            "390/390 [==============================] - 13s 32ms/step - loss: 0.9311 - acc: 0.6903 - val_loss: 0.8352 - val_acc: 0.7330\n",
            "\n",
            "Epoch 00003: val_acc improved from 0.69300 to 0.73300, saving model to ../content/drive/My Drive/EVA/model_after.h5\n",
            "Epoch 4/100\n",
            "390/390 [==============================] - 13s 32ms/step - loss: 0.8405 - acc: 0.7246 - val_loss: 0.7646 - val_acc: 0.7593\n",
            "\n",
            "Epoch 00004: val_acc improved from 0.73300 to 0.75930, saving model to ../content/drive/My Drive/EVA/model_after.h5\n",
            "Epoch 5/100\n",
            "390/390 [==============================] - 13s 32ms/step - loss: 0.7810 - acc: 0.7497 - val_loss: 0.9081 - val_acc: 0.7201\n",
            "\n",
            "Epoch 00005: val_acc did not improve from 0.75930\n",
            "Epoch 6/100\n",
            "390/390 [==============================] - 13s 32ms/step - loss: 0.7322 - acc: 0.7679 - val_loss: 0.7679 - val_acc: 0.7686\n",
            "\n",
            "Epoch 00006: val_acc improved from 0.75930 to 0.76860, saving model to ../content/drive/My Drive/EVA/model_after.h5\n",
            "Epoch 7/100\n",
            "390/390 [==============================] - 13s 33ms/step - loss: 0.6977 - acc: 0.7820 - val_loss: 0.7185 - val_acc: 0.7849\n",
            "\n",
            "Epoch 00007: val_acc improved from 0.76860 to 0.78490, saving model to ../content/drive/My Drive/EVA/model_after.h5\n",
            "Epoch 8/100\n",
            "390/390 [==============================] - 13s 33ms/step - loss: 0.6780 - acc: 0.7936 - val_loss: 0.6563 - val_acc: 0.8141\n",
            "\n",
            "Epoch 00008: val_acc improved from 0.78490 to 0.81410, saving model to ../content/drive/My Drive/EVA/model_after.h5\n",
            "Epoch 9/100\n",
            "390/390 [==============================] - 13s 33ms/step - loss: 0.6509 - acc: 0.8037 - val_loss: 0.6160 - val_acc: 0.8244\n",
            "\n",
            "Epoch 00009: val_acc improved from 0.81410 to 0.82440, saving model to ../content/drive/My Drive/EVA/model_after.h5\n",
            "Epoch 10/100\n",
            "390/390 [==============================] - 13s 33ms/step - loss: 0.6357 - acc: 0.8121 - val_loss: 0.6567 - val_acc: 0.8172\n",
            "\n",
            "Epoch 00010: val_acc did not improve from 0.82440\n",
            "Epoch 11/100\n",
            "390/390 [==============================] - 13s 33ms/step - loss: 0.6144 - acc: 0.8196 - val_loss: 0.6157 - val_acc: 0.8251\n",
            "\n",
            "Epoch 00011: val_acc improved from 0.82440 to 0.82510, saving model to ../content/drive/My Drive/EVA/model_after.h5\n",
            "Epoch 12/100\n",
            "390/390 [==============================] - 13s 33ms/step - loss: 0.6085 - acc: 0.8262 - val_loss: 0.6420 - val_acc: 0.8208\n",
            "\n",
            "Epoch 00012: val_acc did not improve from 0.82510\n",
            "Epoch 13/100\n",
            "390/390 [==============================] - 13s 33ms/step - loss: 0.5930 - acc: 0.8315 - val_loss: 0.6772 - val_acc: 0.8208\n",
            "\n",
            "Epoch 00013: val_acc did not improve from 0.82510\n",
            "Epoch 14/100\n",
            "390/390 [==============================] - 13s 33ms/step - loss: 0.5915 - acc: 0.8350 - val_loss: 0.5986 - val_acc: 0.8420\n",
            "\n",
            "Epoch 00014: val_acc improved from 0.82510 to 0.84200, saving model to ../content/drive/My Drive/EVA/model_after.h5\n",
            "Epoch 15/100\n",
            "390/390 [==============================] - 13s 33ms/step - loss: 0.5852 - acc: 0.8383 - val_loss: 0.6075 - val_acc: 0.8423\n",
            "\n",
            "Epoch 00015: val_acc improved from 0.84200 to 0.84230, saving model to ../content/drive/My Drive/EVA/model_after.h5\n",
            "Epoch 16/100\n",
            "390/390 [==============================] - 13s 33ms/step - loss: 0.5762 - acc: 0.8422 - val_loss: 0.6116 - val_acc: 0.8427\n",
            "\n",
            "Epoch 00016: val_acc improved from 0.84230 to 0.84270, saving model to ../content/drive/My Drive/EVA/model_after.h5\n",
            "Epoch 17/100\n",
            "390/390 [==============================] - 13s 33ms/step - loss: 0.5673 - acc: 0.8475 - val_loss: 0.6423 - val_acc: 0.8316\n",
            "\n",
            "Epoch 00017: val_acc did not improve from 0.84270\n",
            "Epoch 18/100\n",
            "390/390 [==============================] - 13s 33ms/step - loss: 0.5615 - acc: 0.8503 - val_loss: 0.5940 - val_acc: 0.8500\n",
            "\n",
            "Epoch 00018: val_acc improved from 0.84270 to 0.85000, saving model to ../content/drive/My Drive/EVA/model_after.h5\n",
            "Epoch 19/100\n",
            "390/390 [==============================] - 13s 33ms/step - loss: 0.5569 - acc: 0.8522 - val_loss: 0.6021 - val_acc: 0.8492\n",
            "\n",
            "Epoch 00019: val_acc did not improve from 0.85000\n",
            "Epoch 20/100\n",
            "390/390 [==============================] - 13s 33ms/step - loss: 0.5497 - acc: 0.8573 - val_loss: 0.5850 - val_acc: 0.8525\n",
            "\n",
            "Epoch 00020: val_acc improved from 0.85000 to 0.85250, saving model to ../content/drive/My Drive/EVA/model_after.h5\n",
            "Epoch 21/100\n",
            "390/390 [==============================] - 13s 32ms/step - loss: 0.5448 - acc: 0.8603 - val_loss: 0.6234 - val_acc: 0.8449\n",
            "\n",
            "Epoch 00021: val_acc did not improve from 0.85250\n",
            "Epoch 22/100\n",
            "390/390 [==============================] - 13s 33ms/step - loss: 0.5421 - acc: 0.8625 - val_loss: 0.6164 - val_acc: 0.8519\n",
            "\n",
            "Epoch 00022: val_acc did not improve from 0.85250\n",
            "Epoch 23/100\n",
            "390/390 [==============================] - 13s 33ms/step - loss: 0.5384 - acc: 0.8647 - val_loss: 0.6298 - val_acc: 0.8480\n",
            "\n",
            "Epoch 00023: val_acc did not improve from 0.85250\n",
            "Epoch 24/100\n",
            "390/390 [==============================] - 13s 33ms/step - loss: 0.5316 - acc: 0.8678 - val_loss: 0.6182 - val_acc: 0.8527\n",
            "\n",
            "Epoch 00024: val_acc improved from 0.85250 to 0.85270, saving model to ../content/drive/My Drive/EVA/model_after.h5\n",
            "Epoch 25/100\n",
            "390/390 [==============================] - 13s 33ms/step - loss: 0.5236 - acc: 0.8716 - val_loss: 0.6212 - val_acc: 0.8502\n",
            "\n",
            "Epoch 00025: val_acc did not improve from 0.85270\n",
            "Epoch 26/100\n",
            "390/390 [==============================] - 13s 33ms/step - loss: 0.5303 - acc: 0.8690 - val_loss: 0.6191 - val_acc: 0.8516\n",
            "\n",
            "Epoch 00026: val_acc did not improve from 0.85270\n",
            "Epoch 27/100\n",
            "390/390 [==============================] - 13s 33ms/step - loss: 0.5274 - acc: 0.8699 - val_loss: 0.6286 - val_acc: 0.8471\n",
            "\n",
            "Epoch 00027: val_acc did not improve from 0.85270\n",
            "Epoch 28/100\n",
            "390/390 [==============================] - 13s 34ms/step - loss: 0.5159 - acc: 0.8760 - val_loss: 0.5858 - val_acc: 0.8624\n",
            "\n",
            "Epoch 00028: val_acc improved from 0.85270 to 0.86240, saving model to ../content/drive/My Drive/EVA/model_after.h5\n",
            "Epoch 29/100\n",
            "390/390 [==============================] - 13s 33ms/step - loss: 0.5217 - acc: 0.8747 - val_loss: 0.6270 - val_acc: 0.8493\n",
            "\n",
            "Epoch 00029: val_acc did not improve from 0.86240\n",
            "Epoch 30/100\n",
            "390/390 [==============================] - 13s 33ms/step - loss: 0.5165 - acc: 0.8781 - val_loss: 0.5987 - val_acc: 0.8623\n",
            "\n",
            "Epoch 00030: val_acc did not improve from 0.86240\n",
            "Epoch 31/100\n",
            "390/390 [==============================] - 13s 33ms/step - loss: 0.5226 - acc: 0.8755 - val_loss: 0.6209 - val_acc: 0.8611\n",
            "\n",
            "Epoch 00031: val_acc did not improve from 0.86240\n",
            "Epoch 32/100\n",
            "390/390 [==============================] - 13s 33ms/step - loss: 0.5137 - acc: 0.8790 - val_loss: 0.6700 - val_acc: 0.8465\n",
            "\n",
            "Epoch 00032: val_acc did not improve from 0.86240\n",
            "Epoch 33/100\n",
            "390/390 [==============================] - 13s 33ms/step - loss: 0.5092 - acc: 0.8809 - val_loss: 0.6187 - val_acc: 0.8619\n",
            "\n",
            "Epoch 00033: val_acc did not improve from 0.86240\n",
            "\n",
            "Epoch 00033: ReduceLROnPlateau reducing learning rate to 0.000800000037997961.\n",
            "Epoch 34/100\n",
            "390/390 [==============================] - 13s 33ms/step - loss: 0.4863 - acc: 0.8889 - val_loss: 0.6091 - val_acc: 0.8613\n",
            "\n",
            "Epoch 00034: val_acc did not improve from 0.86240\n",
            "Epoch 35/100\n",
            "390/390 [==============================] - 13s 33ms/step - loss: 0.4722 - acc: 0.8928 - val_loss: 0.5899 - val_acc: 0.8677\n",
            "\n",
            "Epoch 00035: val_acc improved from 0.86240 to 0.86770, saving model to ../content/drive/My Drive/EVA/model_after.h5\n",
            "Epoch 36/100\n",
            "390/390 [==============================] - 13s 33ms/step - loss: 0.4626 - acc: 0.8956 - val_loss: 0.5872 - val_acc: 0.8706\n",
            "\n",
            "Epoch 00036: val_acc improved from 0.86770 to 0.87060, saving model to ../content/drive/My Drive/EVA/model_after.h5\n",
            "Epoch 37/100\n",
            "390/390 [==============================] - 13s 33ms/step - loss: 0.4620 - acc: 0.8943 - val_loss: 0.5897 - val_acc: 0.8697\n",
            "\n",
            "Epoch 00037: val_acc did not improve from 0.87060\n",
            "Epoch 38/100\n",
            "390/390 [==============================] - 13s 33ms/step - loss: 0.4658 - acc: 0.8961 - val_loss: 0.6017 - val_acc: 0.8657\n",
            "\n",
            "Epoch 00038: val_acc did not improve from 0.87060\n",
            "Epoch 39/100\n",
            "390/390 [==============================] - 13s 32ms/step - loss: 0.4600 - acc: 0.8973 - val_loss: 0.5608 - val_acc: 0.8731\n",
            "\n",
            "Epoch 00039: val_acc improved from 0.87060 to 0.87310, saving model to ../content/drive/My Drive/EVA/model_after.h5\n",
            "Epoch 40/100\n",
            "390/390 [==============================] - 13s 32ms/step - loss: 0.4583 - acc: 0.8972 - val_loss: 0.5866 - val_acc: 0.8709\n",
            "\n",
            "Epoch 00040: val_acc did not improve from 0.87310\n",
            "Epoch 41/100\n",
            "390/390 [==============================] - 14s 35ms/step - loss: 0.4553 - acc: 0.8992 - val_loss: 0.6606 - val_acc: 0.8511\n",
            "\n",
            "Epoch 00041: val_acc did not improve from 0.87310\n",
            "Epoch 42/100\n",
            "390/390 [==============================] - 13s 33ms/step - loss: 0.4561 - acc: 0.8980 - val_loss: 0.6061 - val_acc: 0.8674\n",
            "\n",
            "Epoch 00042: val_acc did not improve from 0.87310\n",
            "Epoch 43/100\n",
            "390/390 [==============================] - 13s 33ms/step - loss: 0.4534 - acc: 0.9008 - val_loss: 0.5683 - val_acc: 0.8727\n",
            "\n",
            "Epoch 00043: val_acc did not improve from 0.87310\n",
            "Epoch 44/100\n",
            "390/390 [==============================] - 13s 33ms/step - loss: 0.4453 - acc: 0.9016 - val_loss: 0.5866 - val_acc: 0.8762\n",
            "\n",
            "Epoch 00044: val_acc improved from 0.87310 to 0.87620, saving model to ../content/drive/My Drive/EVA/model_after.h5\n",
            "Epoch 45/100\n",
            "390/390 [==============================] - 13s 33ms/step - loss: 0.4517 - acc: 0.8991 - val_loss: 0.6098 - val_acc: 0.8631\n",
            "\n",
            "Epoch 00045: val_acc did not improve from 0.87620\n",
            "Epoch 46/100\n",
            "390/390 [==============================] - 13s 33ms/step - loss: 0.4435 - acc: 0.9033 - val_loss: 0.5957 - val_acc: 0.8723\n",
            "\n",
            "Epoch 00046: val_acc did not improve from 0.87620\n",
            "Epoch 47/100\n",
            "390/390 [==============================] - 13s 33ms/step - loss: 0.4443 - acc: 0.9021 - val_loss: 0.5659 - val_acc: 0.8800\n",
            "\n",
            "Epoch 00047: val_acc improved from 0.87620 to 0.88000, saving model to ../content/drive/My Drive/EVA/model_after.h5\n",
            "Epoch 48/100\n",
            "390/390 [==============================] - 13s 33ms/step - loss: 0.4452 - acc: 0.9033 - val_loss: 0.5677 - val_acc: 0.8750\n",
            "\n",
            "Epoch 00048: val_acc did not improve from 0.88000\n",
            "Epoch 49/100\n",
            "390/390 [==============================] - 13s 33ms/step - loss: 0.4435 - acc: 0.9038 - val_loss: 0.6047 - val_acc: 0.8696\n",
            "\n",
            "Epoch 00049: val_acc did not improve from 0.88000\n",
            "Epoch 50/100\n",
            "390/390 [==============================] - 13s 33ms/step - loss: 0.4417 - acc: 0.9045 - val_loss: 0.6068 - val_acc: 0.8690\n",
            "\n",
            "Epoch 00050: val_acc did not improve from 0.88000\n",
            "Epoch 51/100\n",
            "390/390 [==============================] - 13s 33ms/step - loss: 0.4370 - acc: 0.9053 - val_loss: 0.5774 - val_acc: 0.8745\n",
            "\n",
            "Epoch 00051: val_acc did not improve from 0.88000\n",
            "Epoch 52/100\n",
            "390/390 [==============================] - 13s 33ms/step - loss: 0.4325 - acc: 0.9062 - val_loss: 0.5613 - val_acc: 0.8834\n",
            "\n",
            "Epoch 00052: val_acc improved from 0.88000 to 0.88340, saving model to ../content/drive/My Drive/EVA/model_after.h5\n",
            "Epoch 53/100\n",
            "390/390 [==============================] - 13s 33ms/step - loss: 0.4400 - acc: 0.9037 - val_loss: 0.6086 - val_acc: 0.8700\n",
            "\n",
            "Epoch 00053: val_acc did not improve from 0.88340\n",
            "Epoch 54/100\n",
            "390/390 [==============================] - 13s 33ms/step - loss: 0.4404 - acc: 0.9053 - val_loss: 0.5688 - val_acc: 0.8798\n",
            "\n",
            "Epoch 00054: val_acc did not improve from 0.88340\n",
            "Epoch 55/100\n",
            "390/390 [==============================] - 13s 33ms/step - loss: 0.4334 - acc: 0.9081 - val_loss: 0.5970 - val_acc: 0.8749\n",
            "\n",
            "Epoch 00055: val_acc did not improve from 0.88340\n",
            "Epoch 56/100\n",
            "390/390 [==============================] - 13s 33ms/step - loss: 0.4365 - acc: 0.9061 - val_loss: 0.5626 - val_acc: 0.8773\n",
            "\n",
            "Epoch 00056: val_acc did not improve from 0.88340\n",
            "Epoch 57/100\n",
            "390/390 [==============================] - 13s 33ms/step - loss: 0.4336 - acc: 0.9065 - val_loss: 0.6026 - val_acc: 0.8768\n",
            "\n",
            "Epoch 00057: val_acc did not improve from 0.88340\n",
            "\n",
            "Epoch 00057: ReduceLROnPlateau reducing learning rate to 0.0006400000303983689.\n",
            "Epoch 58/100\n",
            "390/390 [==============================] - 13s 33ms/step - loss: 0.4102 - acc: 0.9167 - val_loss: 0.5749 - val_acc: 0.8798\n",
            "\n",
            "Epoch 00058: val_acc did not improve from 0.88340\n",
            "Epoch 59/100\n",
            "390/390 [==============================] - 13s 33ms/step - loss: 0.4004 - acc: 0.9174 - val_loss: 0.5610 - val_acc: 0.8818\n",
            "\n",
            "Epoch 00059: val_acc did not improve from 0.88340\n",
            "Epoch 60/100\n",
            "390/390 [==============================] - 13s 33ms/step - loss: 0.3949 - acc: 0.9190 - val_loss: 0.5522 - val_acc: 0.8841\n",
            "\n",
            "Epoch 00060: val_acc improved from 0.88340 to 0.88410, saving model to ../content/drive/My Drive/EVA/model_after.h5\n",
            "Epoch 61/100\n",
            "390/390 [==============================] - 13s 33ms/step - loss: 0.3956 - acc: 0.9188 - val_loss: 0.5703 - val_acc: 0.8803\n",
            "\n",
            "Epoch 00061: val_acc did not improve from 0.88410\n",
            "Epoch 62/100\n",
            "390/390 [==============================] - 13s 33ms/step - loss: 0.3996 - acc: 0.9174 - val_loss: 0.5935 - val_acc: 0.8793\n",
            "\n",
            "Epoch 00062: val_acc did not improve from 0.88410\n",
            "Epoch 63/100\n",
            "390/390 [==============================] - 13s 33ms/step - loss: 0.3948 - acc: 0.9197 - val_loss: 0.5567 - val_acc: 0.8849\n",
            "\n",
            "Epoch 00063: val_acc improved from 0.88410 to 0.88490, saving model to ../content/drive/My Drive/EVA/model_after.h5\n",
            "Epoch 64/100\n",
            "390/390 [==============================] - 13s 33ms/step - loss: 0.3916 - acc: 0.9185 - val_loss: 0.5728 - val_acc: 0.8805\n",
            "\n",
            "Epoch 00064: val_acc did not improve from 0.88490\n",
            "Epoch 65/100\n",
            "390/390 [==============================] - 13s 33ms/step - loss: 0.3892 - acc: 0.9190 - val_loss: 0.6108 - val_acc: 0.8703\n",
            "\n",
            "Epoch 00065: val_acc did not improve from 0.88490\n",
            "Epoch 66/100\n",
            "390/390 [==============================] - 13s 33ms/step - loss: 0.3868 - acc: 0.9196 - val_loss: 0.5728 - val_acc: 0.8785\n",
            "\n",
            "Epoch 00066: val_acc did not improve from 0.88490\n",
            "Epoch 67/100\n",
            "390/390 [==============================] - 13s 33ms/step - loss: 0.3902 - acc: 0.9183 - val_loss: 0.5755 - val_acc: 0.8832\n",
            "\n",
            "Epoch 00067: val_acc did not improve from 0.88490\n",
            "Epoch 68/100\n",
            "390/390 [==============================] - 13s 33ms/step - loss: 0.3884 - acc: 0.9210 - val_loss: 0.5637 - val_acc: 0.8819\n",
            "\n",
            "Epoch 00068: val_acc did not improve from 0.88490\n",
            "\n",
            "Epoch 00068: ReduceLROnPlateau reducing learning rate to 0.0005120000336319208.\n",
            "Epoch 69/100\n",
            "390/390 [==============================] - 13s 33ms/step - loss: 0.3682 - acc: 0.9270 - val_loss: 0.5503 - val_acc: 0.8895\n",
            "\n",
            "Epoch 00069: val_acc improved from 0.88490 to 0.88950, saving model to ../content/drive/My Drive/EVA/model_after.h5\n",
            "Epoch 70/100\n",
            "390/390 [==============================] - 13s 33ms/step - loss: 0.3638 - acc: 0.9276 - val_loss: 0.5347 - val_acc: 0.8868\n",
            "\n",
            "Epoch 00070: val_acc did not improve from 0.88950\n",
            "Epoch 71/100\n",
            "390/390 [==============================] - 13s 33ms/step - loss: 0.3560 - acc: 0.9299 - val_loss: 0.5713 - val_acc: 0.8850\n",
            "\n",
            "Epoch 00071: val_acc did not improve from 0.88950\n",
            "Epoch 72/100\n",
            "390/390 [==============================] - 13s 33ms/step - loss: 0.3504 - acc: 0.9312 - val_loss: 0.5540 - val_acc: 0.8825\n",
            "\n",
            "Epoch 00072: val_acc did not improve from 0.88950\n",
            "Epoch 73/100\n",
            "390/390 [==============================] - 13s 33ms/step - loss: 0.3532 - acc: 0.9291 - val_loss: 0.5495 - val_acc: 0.8847\n",
            "\n",
            "Epoch 00073: val_acc did not improve from 0.88950\n",
            "Epoch 74/100\n",
            "390/390 [==============================] - 13s 33ms/step - loss: 0.3540 - acc: 0.9296 - val_loss: 0.5616 - val_acc: 0.8859\n",
            "\n",
            "Epoch 00074: val_acc did not improve from 0.88950\n",
            "\n",
            "Epoch 00074: ReduceLROnPlateau reducing learning rate to 0.00040960004553198815.\n",
            "Epoch 75/100\n",
            "390/390 [==============================] - 13s 34ms/step - loss: 0.3452 - acc: 0.9324 - val_loss: 0.5533 - val_acc: 0.8861\n",
            "\n",
            "Epoch 00075: val_acc did not improve from 0.88950\n",
            "Epoch 76/100\n",
            "390/390 [==============================] - 13s 33ms/step - loss: 0.3373 - acc: 0.9339 - val_loss: 0.5446 - val_acc: 0.8873\n",
            "\n",
            "Epoch 00076: val_acc did not improve from 0.88950\n",
            "Epoch 77/100\n",
            "390/390 [==============================] - 13s 33ms/step - loss: 0.3262 - acc: 0.9383 - val_loss: 0.5420 - val_acc: 0.8889\n",
            "\n",
            "Epoch 00077: val_acc did not improve from 0.88950\n",
            "Epoch 78/100\n",
            "390/390 [==============================] - 13s 33ms/step - loss: 0.3254 - acc: 0.9380 - val_loss: 0.5363 - val_acc: 0.8908\n",
            "\n",
            "Epoch 00078: val_acc improved from 0.88950 to 0.89080, saving model to ../content/drive/My Drive/EVA/model_after.h5\n",
            "Epoch 79/100\n",
            "390/390 [==============================] - 13s 33ms/step - loss: 0.3199 - acc: 0.9388 - val_loss: 0.5492 - val_acc: 0.8894\n",
            "\n",
            "Epoch 00079: val_acc did not improve from 0.89080\n",
            "Epoch 80/100\n",
            "390/390 [==============================] - 13s 33ms/step - loss: 0.3211 - acc: 0.9379 - val_loss: 0.5378 - val_acc: 0.8892\n",
            "\n",
            "Epoch 00080: val_acc did not improve from 0.89080\n",
            "Epoch 81/100\n",
            "390/390 [==============================] - 13s 33ms/step - loss: 0.3188 - acc: 0.9390 - val_loss: 0.5418 - val_acc: 0.8874\n",
            "\n",
            "Epoch 00081: val_acc did not improve from 0.89080\n",
            "Epoch 82/100\n",
            "390/390 [==============================] - 13s 33ms/step - loss: 0.3191 - acc: 0.9392 - val_loss: 0.5497 - val_acc: 0.8880\n",
            "\n",
            "Epoch 00082: val_acc did not improve from 0.89080\n",
            "Epoch 83/100\n",
            "390/390 [==============================] - 13s 33ms/step - loss: 0.3160 - acc: 0.9384 - val_loss: 0.5344 - val_acc: 0.8923\n",
            "\n",
            "Epoch 00083: val_acc improved from 0.89080 to 0.89230, saving model to ../content/drive/My Drive/EVA/model_after.h5\n",
            "Epoch 84/100\n",
            "390/390 [==============================] - 13s 33ms/step - loss: 0.3135 - acc: 0.9391 - val_loss: 0.5472 - val_acc: 0.8884\n",
            "\n",
            "Epoch 00084: val_acc did not improve from 0.89230\n",
            "Epoch 85/100\n",
            "390/390 [==============================] - 13s 33ms/step - loss: 0.3094 - acc: 0.9408 - val_loss: 0.5739 - val_acc: 0.8872\n",
            "\n",
            "Epoch 00085: val_acc did not improve from 0.89230\n",
            "Epoch 86/100\n",
            "390/390 [==============================] - 13s 33ms/step - loss: 0.3091 - acc: 0.9406 - val_loss: 0.5629 - val_acc: 0.8847\n",
            "\n",
            "Epoch 00086: val_acc did not improve from 0.89230\n",
            "Epoch 87/100\n",
            "390/390 [==============================] - 13s 33ms/step - loss: 0.3143 - acc: 0.9396 - val_loss: 0.5305 - val_acc: 0.8899\n",
            "\n",
            "Epoch 00087: val_acc did not improve from 0.89230\n",
            "Epoch 88/100\n",
            "390/390 [==============================] - 13s 33ms/step - loss: 0.3120 - acc: 0.9399 - val_loss: 0.5397 - val_acc: 0.8881\n",
            "\n",
            "Epoch 00088: val_acc did not improve from 0.89230\n",
            "\n",
            "Epoch 00088: ReduceLROnPlateau reducing learning rate to 0.00032768002711236477.\n",
            "Epoch 89/100\n",
            "390/390 [==============================] - 13s 33ms/step - loss: 0.2971 - acc: 0.9443 - val_loss: 0.5360 - val_acc: 0.8941\n",
            "\n",
            "Epoch 00089: val_acc improved from 0.89230 to 0.89410, saving model to ../content/drive/My Drive/EVA/model_after.h5\n",
            "Epoch 90/100\n",
            "390/390 [==============================] - 13s 34ms/step - loss: 0.2955 - acc: 0.9432 - val_loss: 0.5196 - val_acc: 0.8934\n",
            "\n",
            "Epoch 00090: val_acc did not improve from 0.89410\n",
            "Epoch 91/100\n",
            "390/390 [==============================] - 13s 33ms/step - loss: 0.2928 - acc: 0.9446 - val_loss: 0.5184 - val_acc: 0.8939\n",
            "\n",
            "Epoch 00091: val_acc did not improve from 0.89410\n",
            "Epoch 92/100\n",
            "390/390 [==============================] - 13s 33ms/step - loss: 0.2877 - acc: 0.9468 - val_loss: 0.5458 - val_acc: 0.8911\n",
            "\n",
            "Epoch 00092: val_acc did not improve from 0.89410\n",
            "Epoch 93/100\n",
            "390/390 [==============================] - 13s 33ms/step - loss: 0.2865 - acc: 0.9459 - val_loss: 0.5314 - val_acc: 0.8924\n",
            "\n",
            "Epoch 00093: val_acc did not improve from 0.89410\n",
            "Epoch 94/100\n",
            "390/390 [==============================] - 13s 33ms/step - loss: 0.2809 - acc: 0.9485 - val_loss: 0.5375 - val_acc: 0.8928\n",
            "\n",
            "Epoch 00094: val_acc did not improve from 0.89410\n",
            "\n",
            "Epoch 00094: ReduceLROnPlateau reducing learning rate to 0.0002621440216898918.\n",
            "Epoch 95/100\n",
            "390/390 [==============================] - 13s 33ms/step - loss: 0.2765 - acc: 0.9488 - val_loss: 0.5260 - val_acc: 0.8942\n",
            "\n",
            "Epoch 00095: val_acc improved from 0.89410 to 0.89420, saving model to ../content/drive/My Drive/EVA/model_after.h5\n",
            "Epoch 96/100\n",
            "390/390 [==============================] - 13s 33ms/step - loss: 0.2708 - acc: 0.9506 - val_loss: 0.5307 - val_acc: 0.8909\n",
            "\n",
            "Epoch 00096: val_acc did not improve from 0.89420\n",
            "Epoch 97/100\n",
            "390/390 [==============================] - 13s 33ms/step - loss: 0.2719 - acc: 0.9507 - val_loss: 0.5270 - val_acc: 0.8928\n",
            "\n",
            "Epoch 00097: val_acc did not improve from 0.89420\n",
            "Epoch 98/100\n",
            "390/390 [==============================] - 13s 33ms/step - loss: 0.2691 - acc: 0.9515 - val_loss: 0.5163 - val_acc: 0.9001\n",
            "\n",
            "Epoch 00098: val_acc improved from 0.89420 to 0.90010, saving model to ../content/drive/My Drive/EVA/model_after.h5\n",
            "Epoch 99/100\n",
            "390/390 [==============================] - 13s 33ms/step - loss: 0.2665 - acc: 0.9514 - val_loss: 0.5238 - val_acc: 0.8956\n",
            "\n",
            "Epoch 00099: val_acc did not improve from 0.90010\n",
            "Epoch 100/100\n",
            "390/390 [==============================] - 13s 33ms/step - loss: 0.2637 - acc: 0.9511 - val_loss: 0.5143 - val_acc: 0.8972\n",
            "\n",
            "Epoch 00100: val_acc did not improve from 0.90010\n",
            "Model took 1318.25 seconds to train\n"
          ],
          "name": "stdout"
        },
        {
          "output_type": "display_data",
          "data": {
            "image/png": "[encoded data removed]",
            "text/plain": [
              "<Figure size 1080x360 with 2 Axes>"
            ]
          },
          "metadata": {
            "tags": []
          }
        },
        {
          "output_type": "stream",
          "text": [
            "Accuracy on test data is: 89.72\n"
          ],
          "name": "stdout"
        }
      ]
    },
    {
      "cell_type": "code",
      "metadata": {
        "id": "MuaEyx_YGblo",
        "colab_type": "code",
        "colab": {}
      },
      "source": [
        "model=keras.models.load_model('../content/drive/My Drive/EVA/model_after.h5')\n"
      ],
      "execution_count": 0,
      "outputs": []
    },
    {
      "cell_type": "code",
      "metadata": {
        "id": "budyKuLkGb0O",
        "colab_type": "code",
        "outputId": "a0583604-1d0c-41a2-e682-119a22916145",
        "colab": {
          "base_uri": "https://localhost:8080/",
          "height": 54
        }
      },
      "source": [
        "score = model.evaluate(X_test, Y_test, batch_size=128)\n",
        "print (score[1])"
      ],
      "execution_count": 0,
      "outputs": [
        {
          "output_type": "stream",
          "text": [
            "10000/10000 [==============================] - 3s 334us/step\n",
            "0.9001\n"
          ],
          "name": "stdout"
        }
      ]
    },
    {
      "cell_type": "markdown",
      "metadata": {
        "id": "2N5tHSCPc9yk",
        "colab_type": "text"
      },
      "source": [
        "### Model 2 Grad CAM results : with Cutout"
      ]
    },
    {
      "cell_type": "code",
      "metadata": {
        "id": "SsDd0GCUGcg1",
        "colab_type": "code",
        "outputId": "f00ddf04-4bce-4fe9-f9d0-ab6f4ca324cb",
        "colab": {
          "base_uri": "https://localhost:8080/",
          "height": 1000
        }
      },
      "source": [
        "import cv2\n",
        "from google.colab.patches import cv2_imshow\n",
        "\n",
        "images = [100,101,201,510,600,1000,1600,1601,3000,4000,5500,7000,7500,8000,9000,9999]\n",
        "for j in images:\n",
        "  x = testX[j]\n",
        "  x = np.expand_dims(x, axis=0)\n",
        "  preds = model.predict(x,batch_size=1)\n",
        "  class_idx = np.argmax(preds[0])\n",
        "  class_output = model.output[:, class_idx]\n",
        "  last_conv_layer = model.get_layer(\"conv2d_26\")\n",
        "\n",
        "  grads = K.gradients(class_output, last_conv_layer.output)[0]\n",
        "  pooled_grads = K.mean(grads, axis=(0, 1, 2))\n",
        "  iterate = K.function([model.input], [pooled_grads, last_conv_layer.output[0]])\n",
        "  pooled_grads_value, conv_layer_output_value = iterate([x])\n",
        "  for i in range(256):\n",
        "    conv_layer_output_value[:, :, i] *= pooled_grads_value[i]\n",
        "  \n",
        "  heatmap = np.mean(conv_layer_output_value, axis=-1)\n",
        "  heatmap = np.maximum(heatmap, 0)\n",
        "  heatmap /= np.max(heatmap) \n",
        "  img = (testX[j])\n",
        "  heatmap = cv2.resize(heatmap, (img.shape[1], img.shape[0]))\n",
        "  heatmap = np.uint8(255 * heatmap)\n",
        "  heatmap = cv2.applyColorMap(heatmap, cv2.COLORMAP_JET)\n",
        "  superimposed_img = cv2.addWeighted(img, 0.6, heatmap, 0.4, 0)\n",
        "  #cv2_imshow(img)\n",
        "  #cv2_imshow(superimposed_img)\n",
        "  concatimg = cv2.hconcat([img,superimposed_img])\n",
        "  # Display the concatenated image\n",
        "  print (j)\n",
        "  cv2_imshow(concatimg)\n",
        "  cv2.waitKey(0)\n",
        "  print (\" \")\n",
        "  j = j + 1\n"
      ],
      "execution_count": 0,
      "outputs": [
        {
          "output_type": "stream",
          "text": [
            "100\n"
          ],
          "name": "stdout"
        },
        {
          "output_type": "display_data",
          "data": {
            "image/png": "[encoded data removed]",
            "text/plain": [
              "<PIL.Image.Image image mode=RGB size=64x32 at 0x7F13E18B9D30>"
            ]
          },
          "metadata": {
            "tags": []
          }
        },
        {
          "output_type": "stream",
          "text": [
            " \n",
            "101\n"
          ],
          "name": "stdout"
        },
        {
          "output_type": "display_data",
          "data": {
            "image/png": "[encoded data removed]",
            "text/plain": [
              "<PIL.Image.Image image mode=RGB size=64x32 at 0x7F13DFA80CC0>"
            ]
          },
          "metadata": {
            "tags": []
          }
        },
        {
          "output_type": "stream",
          "text": [
            " \n",
            "201\n"
          ],
          "name": "stdout"
        },
        {
          "output_type": "display_data",
          "data": {
            "image/png": "[encoded data removed]",
            "text/plain": [
              "<PIL.Image.Image image mode=RGB size=64x32 at 0x7F13DF98AF98>"
            ]
          },
          "metadata": {
            "tags": []
          }
        },
        {
          "output_type": "stream",
          "text": [
            " \n",
            "510\n"
          ],
          "name": "stdout"
        },
        {
          "output_type": "display_data",
          "data": {
            "image/png": "[encoded data removed]",
            "text/plain": [
              "<PIL.Image.Image image mode=RGB size=64x32 at 0x7F13DF9B9C50>"
            ]
          },
          "metadata": {
            "tags": []
          }
        },
        {
          "output_type": "stream",
          "text": [
            " \n",
            "600\n"
          ],
          "name": "stdout"
        },
        {
          "output_type": "display_data",
          "data": {
            "image/png": "[encoded data removed]",
            "text/plain": [
              "<PIL.Image.Image image mode=RGB size=64x32 at 0x7F13DFA21DA0>"
            ]
          },
          "metadata": {
            "tags": []
          }
        },
        {
          "output_type": "stream",
          "text": [
            " \n",
            "1000\n"
          ],
          "name": "stdout"
        },
        {
          "output_type": "display_data",
          "data": {
            "image/png": "[encoded data removed]",
            "text/plain": [
              "<PIL.Image.Image image mode=RGB size=64x32 at 0x7F13DFC37160>"
            ]
          },
          "metadata": {
            "tags": []
          }
        },
        {
          "output_type": "stream",
          "text": [
            " \n",
            "1600\n"
          ],
          "name": "stdout"
        },
        {
          "output_type": "display_data",
          "data": {
            "image/png": "[encoded data removed]",
            "text/plain": [
              "<PIL.Image.Image image mode=RGB size=64x32 at 0x7F13DF759320>"
            ]
          },
          "metadata": {
            "tags": []
          }
        },
        {
          "output_type": "stream",
          "text": [
            " \n",
            "1601\n"
          ],
          "name": "stdout"
        },
        {
          "output_type": "display_data",
          "data": {
            "image/png": "[encoded data removed]",
            "text/plain": [
              "<PIL.Image.Image image mode=RGB size=64x32 at 0x7F13DFA80A20>"
            ]
          },
          "metadata": {
            "tags": []
          }
        },
        {
          "output_type": "stream",
          "text": [
            " \n",
            "3000\n"
          ],
          "name": "stdout"
        },
        {
          "output_type": "display_data",
          "data": {
            "image/png": "[encoded data removed]",
            "text/plain": [
              "<PIL.Image.Image image mode=RGB size=64x32 at 0x7F13DF759320>"
            ]
          },
          "metadata": {
            "tags": []
          }
        },
        {
          "output_type": "stream",
          "text": [
            " \n",
            "4000\n"
          ],
          "name": "stdout"
        },
        {
          "output_type": "display_data",
          "data": {
            "image/png": "[encoded data removed]",
            "text/plain": [
              "<PIL.Image.Image image mode=RGB size=64x32 at 0x7F13DFA80A20>"
            ]
          },
          "metadata": {
            "tags": []
          }
        },
        {
          "output_type": "stream",
          "text": [
            " \n",
            "5500\n"
          ],
          "name": "stdout"
        },
        {
          "output_type": "display_data",
          "data": {
            "image/png": "[encoded data removed]",
            "text/plain": [
              "<PIL.Image.Image image mode=RGB size=64x32 at 0x7F13DFC370B8>"
            ]
          },
          "metadata": {
            "tags": []
          }
        },
        {
          "output_type": "stream",
          "text": [
            " \n",
            "7000\n"
          ],
          "name": "stdout"
        },
        {
          "output_type": "display_data",
          "data": {
            "image/png": "[encoded data removed]",
            "text/plain": [
              "<PIL.Image.Image image mode=RGB size=64x32 at 0x7F13DF5BCBE0>"
            ]
          },
          "metadata": {
            "tags": []
          }
        },
        {
          "output_type": "stream",
          "text": [
            " \n",
            "7500\n"
          ],
          "name": "stdout"
        },
        {
          "output_type": "display_data",
          "data": {
            "image/png": "[encoded data removed]",
            "text/plain": [
              "<PIL.Image.Image image mode=RGB size=64x32 at 0x7F13DF3E15C0>"
            ]
          },
          "metadata": {
            "tags": []
          }
        },
        {
          "output_type": "stream",
          "text": [
            " \n",
            "8000\n"
          ],
          "name": "stdout"
        },
        {
          "output_type": "display_data",
          "data": {
            "image/png": "[encoded data removed]",
            "text/plain": [
              "<PIL.Image.Image image mode=RGB size=64x32 at 0x7F13DF5BCBE0>"
            ]
          },
          "metadata": {
            "tags": []
          }
        },
        {
          "output_type": "stream",
          "text": [
            " \n",
            "9000\n"
          ],
          "name": "stdout"
        },
        {
          "output_type": "display_data",
          "data": {
            "image/png": "[encoded data removed]",
            "text/plain": [
              "<PIL.Image.Image image mode=RGB size=64x32 at 0x7F13DF4B9F98>"
            ]
          },
          "metadata": {
            "tags": []
          }
        },
        {
          "output_type": "stream",
          "text": [
            " \n",
            "9999\n"
          ],
          "name": "stdout"
        },
        {
          "output_type": "display_data",
          "data": {
            "image/png": "[encoded data removed]",
            "text/plain": [
              "<PIL.Image.Image image mode=RGB size=64x32 at 0x7F13DF5BCBE0>"
            ]
          },
          "metadata": {
            "tags": []
          }
        },
        {
          "output_type": "stream",
          "text": [
            " \n"
          ],
          "name": "stdout"
        }
      ]
    },
    {
      "cell_type": "markdown",
      "metadata": {
        "id": "J3NT_JQlbkd4",
        "colab_type": "text"
      },
      "source": [
        "### Conclusions:\n",
        "#### first of all , with cutout the validation accuracy increased from 88.9 % to 90.01 %\n",
        "#### Looking at the sample images from the validation data, it has come out very clearly in many images that there arent many important regions identified in model 1 (without cutout), however in model2 (with cutout) , every image has important regions highlighted that indicates the class being predicted.\n",
        "#### in many cases the region has shifted from some irrelevant position to very obvious regions indicating that the model is now learning what it is supposed to learn."
      ]
    }
  ]
}